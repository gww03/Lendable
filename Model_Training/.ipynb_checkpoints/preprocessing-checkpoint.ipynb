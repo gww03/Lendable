{
 "cells": [
  {
   "cell_type": "code",
   "execution_count": 22,
   "id": "15b3acc8-846d-4f62-9bd1-a7caefa8bb44",
   "metadata": {
    "tags": []
   },
   "outputs": [],
   "source": [
    "from fuzzywuzzy import process\n",
    "\n",
    "import pandas as pd"
   ]
  },
  {
   "cell_type": "markdown",
   "id": "406205ce-5958-4d16-8bfc-104b00272ed1",
   "metadata": {
    "tags": []
   },
   "source": [
    "## Functions"
   ]
  },
  {
   "cell_type": "code",
   "execution_count": 2,
   "id": "8e56a95a-23b8-4c83-ae3c-d8eecb501218",
   "metadata": {
    "tags": []
   },
   "outputs": [],
   "source": [
    "def clean_purpose_column(df: pd.DataFrame, column: str, manual_groups = ['car', 'debt consolidation', 'home improvement', 'other', 'medical', 'bills', 'repairs', 'expenses', 'bike'], default_value: str = 'non_grouped') -> pd.DataFrame:\n",
    "    \"\"\"\n",
    "    Cleans and groups entries in a specified column, setting non-matching entries to a default value.\n",
    "    \n",
    "    Parameters:\n",
    "    df (pd.DataFrame): The input DataFrame.\n",
    "    column (str): The column to clean.\n",
    "    manual_groups (list): A list of acceptable groups to retain.\n",
    "    default_value (str): The value to assign to entries not in manual_groups (default is 'non_grouped').\n",
    "    \n",
    "    Returns:\n",
    "    pd.DataFrame: The updated DataFrame with the cleaned column.\n",
    "    \"\"\"\n",
    "    \n",
    "    # Function to map each entry to the closest known purpose\n",
    "    def match_purpose(entry):\n",
    "        match, score = process.extractOne(entry, known_purposes)\n",
    "        if score >= 80:  # Choose a similarity threshold (e.g., 80%)\n",
    "            return match\n",
    "        else:\n",
    "            return entry  # Return original if no close match is found\n",
    "        \n",
    "        \n",
    "    \n",
    "    # Step 1: Standardise the column by converting to lowercase\n",
    "    df[column] = df[column].str.lower()\n",
    "    \n",
    "    # Step 2: Map common variations to a standard category\n",
    "    purpose_mapping = {\n",
    "        'car': 'car',\n",
    "        'car loan': 'car',\n",
    "        'vehicle': 'car',\n",
    "        'new car': 'car',\n",
    "        'car purchase': 'car',\n",
    "        'car repairs' : 'car',\n",
    "        'car repair' : 'car',\n",
    "        'vehicle purchase' : 'car',\n",
    "        'van' : 'car',\n",
    "\n",
    "\n",
    "\n",
    "        'consolidation' : 'debt consolidation',\n",
    "        'debt consolidation': 'debt consolidation', \n",
    "        'consolidate debt' : 'debt consolidation', \n",
    "        'debts' : 'debt consolidation', \n",
    "        'consolodation' : 'debt consolidation',\n",
    "\n",
    "        'home': 'home improvement',\n",
    "        'home improvement': 'home improvement',\n",
    "        'home improvements': 'home improvement',\n",
    "        'home improvments': 'home improvement',\n",
    "        'furniture' : 'home improvement',\n",
    "        'household' : 'home improvement',\n",
    "        'house': 'home improvement',\n",
    "        'household items': 'home improvement',\n",
    "        'improvements' : 'home improvement',\n",
    "\n",
    "        'other': 'other',\n",
    "\n",
    "        'medical expenses': 'medical',\n",
    "        'emergency' : 'medical',\n",
    "        'family emergency' : 'medical',\n",
    "\n",
    "        'bills' : 'bills',\n",
    "        'vet bills' : 'bills',\n",
    "        'vet bill' : 'bills',\n",
    "        'vets bill' : 'bills',\n",
    "        'car bills' : 'bills',\n",
    "\n",
    "        'repairs' : 'repairs',\n",
    "\n",
    "        'personal loan' : 'expenses',\n",
    "        'unexpected expense' : 'expenses',\n",
    "\n",
    "        'motorbike' : 'bike',\n",
    "        'bike' : 'bike',\n",
    "        'motorcycle' : 'bike'\n",
    "    }\n",
    "    df[column] = df[column].replace(purpose_mapping).copy()\n",
    "\n",
    "    # Define a list of known purposes to map entries to\n",
    "    known_purposes = manual_groups\n",
    "\n",
    "\n",
    "    # Step 3: Apply fuzzy matching to the purpose column\n",
    "    df[column] = df[column].apply(match_purpose).copy()\n",
    "\n",
    "    \n",
    "    # Step 4: Replace entries not in manual_groups with the default value ('Other')\n",
    "    df.loc[~df[column].isin(manual_groups), column] = default_value\n",
    "    \n",
    "    return df\n"
   ]
  },
  {
   "cell_type": "markdown",
   "id": "810c02a1-6e34-48cd-a242-0d378271b4fc",
   "metadata": {},
   "source": [
    "## Import Data"
   ]
  },
  {
   "cell_type": "code",
   "execution_count": 9,
   "id": "4d8ee0ed-cdaf-4e7c-8149-61101f77e760",
   "metadata": {
    "tags": []
   },
   "outputs": [],
   "source": [
    "# Load in Credit Features data\n",
    "\n",
    "credit_features_df = pd.read_csv('../credit_features.csv')"
   ]
  },
  {
   "cell_type": "code",
   "execution_count": 10,
   "id": "45fc4b1b-3fc5-419b-bf24-b7585a5e4ef7",
   "metadata": {
    "tags": []
   },
   "outputs": [],
   "source": [
    "# Load in Application Sample data\n",
    "\n",
    "applications_df = pd.read_csv('../application_samples.csv')"
   ]
  },
  {
   "cell_type": "code",
   "execution_count": 11,
   "id": "90ef5c12-0a71-4221-8612-56c1127485f8",
   "metadata": {
    "tags": []
   },
   "outputs": [],
   "source": [
    "merged_df = applications_df.merge(credit_features_df, how='inner', on='UID')"
   ]
  },
  {
   "cell_type": "markdown",
   "id": "a1d9c722-c53b-4366-a878-794c5157ec8e",
   "metadata": {},
   "source": [
    "## Feature Engineering"
   ]
  },
  {
   "cell_type": "markdown",
   "id": "094ffd6a-ae2e-4127-9c74-a1ca5bd6e672",
   "metadata": {},
   "source": [
    "#### Preprocess LoanPurpose"
   ]
  },
  {
   "cell_type": "code",
   "execution_count": 12,
   "id": "bbcd1259-d764-4219-851f-c72ada41fdad",
   "metadata": {
    "tags": []
   },
   "outputs": [],
   "source": [
    "# Transform the 'LoanPurpose' column\n",
    "merged_df = clean_purpose_column(merged_df, 'LoanPurpose')"
   ]
  },
  {
   "cell_type": "code",
   "execution_count": 13,
   "id": "6aa065e5-16e3-439f-99da-641bd1d88f66",
   "metadata": {
    "tags": []
   },
   "outputs": [
    {
     "data": {
      "text/html": [
       "<div>\n",
       "<style scoped>\n",
       "    .dataframe tbody tr th:only-of-type {\n",
       "        vertical-align: middle;\n",
       "    }\n",
       "\n",
       "    .dataframe tbody tr th {\n",
       "        vertical-align: top;\n",
       "    }\n",
       "\n",
       "    .dataframe thead th {\n",
       "        text-align: right;\n",
       "    }\n",
       "</style>\n",
       "<table border=\"1\" class=\"dataframe\">\n",
       "  <thead>\n",
       "    <tr style=\"text-align: right;\">\n",
       "      <th></th>\n",
       "      <th>UID</th>\n",
       "      <th>ApplicationDate</th>\n",
       "      <th>Amount</th>\n",
       "      <th>Term</th>\n",
       "      <th>EmploymentType</th>\n",
       "      <th>LoanPurpose</th>\n",
       "      <th>Success</th>\n",
       "      <th>ALL_AgeOfOldestAccount</th>\n",
       "      <th>ALL_AgeOfYoungestAccount</th>\n",
       "      <th>ALL_Count</th>\n",
       "      <th>ALL_CountActive</th>\n",
       "      <th>ALL_CountClosedLast12Months</th>\n",
       "      <th>ALL_CountDefaultAccounts</th>\n",
       "      <th>ALL_CountOpenedLast12Months</th>\n",
       "      <th>ALL_CountSettled</th>\n",
       "      <th>ALL_MeanAccountAge</th>\n",
       "      <th>ALL_SumCurrentOutstandingBal</th>\n",
       "      <th>ALL_SumCurrentOutstandingBalExcMtg</th>\n",
       "      <th>ALL_TimeSinceMostRecentDefault</th>\n",
       "      <th>ALL_WorstPaymentStatusActiveAccounts</th>\n",
       "    </tr>\n",
       "  </thead>\n",
       "  <tbody>\n",
       "    <tr>\n",
       "      <th>0</th>\n",
       "      <td>4921736</td>\n",
       "      <td>03/07/2020</td>\n",
       "      <td>2000</td>\n",
       "      <td>60</td>\n",
       "      <td>Employed - full time</td>\n",
       "      <td>bills</td>\n",
       "      <td>0</td>\n",
       "      <td>162</td>\n",
       "      <td>17</td>\n",
       "      <td>18</td>\n",
       "      <td>12</td>\n",
       "      <td>0</td>\n",
       "      <td>0</td>\n",
       "      <td>0</td>\n",
       "      <td>6</td>\n",
       "      <td>70.94</td>\n",
       "      <td>68555</td>\n",
       "      <td>15019</td>\n",
       "      <td>-1</td>\n",
       "      <td>0</td>\n",
       "    </tr>\n",
       "    <tr>\n",
       "      <th>1</th>\n",
       "      <td>1241981</td>\n",
       "      <td>04/02/2020</td>\n",
       "      <td>3000</td>\n",
       "      <td>60</td>\n",
       "      <td>Employed - full time</td>\n",
       "      <td>non_grouped</td>\n",
       "      <td>0</td>\n",
       "      <td>266</td>\n",
       "      <td>30</td>\n",
       "      <td>14</td>\n",
       "      <td>10</td>\n",
       "      <td>0</td>\n",
       "      <td>4</td>\n",
       "      <td>0</td>\n",
       "      <td>4</td>\n",
       "      <td>104.79</td>\n",
       "      <td>2209</td>\n",
       "      <td>2209</td>\n",
       "      <td>-1</td>\n",
       "      <td>7</td>\n",
       "    </tr>\n",
       "    <tr>\n",
       "      <th>2</th>\n",
       "      <td>5751748</td>\n",
       "      <td>02/08/2020</td>\n",
       "      <td>20000</td>\n",
       "      <td>60</td>\n",
       "      <td>Employed - full time</td>\n",
       "      <td>non_grouped</td>\n",
       "      <td>0</td>\n",
       "      <td>90</td>\n",
       "      <td>52</td>\n",
       "      <td>4</td>\n",
       "      <td>2</td>\n",
       "      <td>0</td>\n",
       "      <td>1</td>\n",
       "      <td>0</td>\n",
       "      <td>2</td>\n",
       "      <td>68.25</td>\n",
       "      <td>5108</td>\n",
       "      <td>5108</td>\n",
       "      <td>-1</td>\n",
       "      <td>7</td>\n",
       "    </tr>\n",
       "    <tr>\n",
       "      <th>3</th>\n",
       "      <td>7163425</td>\n",
       "      <td>23/09/2020</td>\n",
       "      <td>20000</td>\n",
       "      <td>60</td>\n",
       "      <td>Self employed</td>\n",
       "      <td>non_grouped</td>\n",
       "      <td>0</td>\n",
       "      <td>163</td>\n",
       "      <td>19</td>\n",
       "      <td>14</td>\n",
       "      <td>6</td>\n",
       "      <td>1</td>\n",
       "      <td>1</td>\n",
       "      <td>0</td>\n",
       "      <td>8</td>\n",
       "      <td>67.50</td>\n",
       "      <td>25738</td>\n",
       "      <td>25738</td>\n",
       "      <td>-1</td>\n",
       "      <td>0</td>\n",
       "    </tr>\n",
       "    <tr>\n",
       "      <th>4</th>\n",
       "      <td>227377</td>\n",
       "      <td>01/01/2020</td>\n",
       "      <td>5000</td>\n",
       "      <td>36</td>\n",
       "      <td>Employed - full time</td>\n",
       "      <td>car</td>\n",
       "      <td>0</td>\n",
       "      <td>129</td>\n",
       "      <td>2</td>\n",
       "      <td>38</td>\n",
       "      <td>19</td>\n",
       "      <td>4</td>\n",
       "      <td>9</td>\n",
       "      <td>8</td>\n",
       "      <td>19</td>\n",
       "      <td>56.45</td>\n",
       "      <td>5801</td>\n",
       "      <td>5801</td>\n",
       "      <td>-1</td>\n",
       "      <td>7</td>\n",
       "    </tr>\n",
       "  </tbody>\n",
       "</table>\n",
       "</div>"
      ],
      "text/plain": [
       "       UID ApplicationDate  Amount  Term        EmploymentType  LoanPurpose  \\\n",
       "0  4921736      03/07/2020    2000    60  Employed - full time        bills   \n",
       "1  1241981      04/02/2020    3000    60  Employed - full time  non_grouped   \n",
       "2  5751748      02/08/2020   20000    60  Employed - full time  non_grouped   \n",
       "3  7163425      23/09/2020   20000    60         Self employed  non_grouped   \n",
       "4   227377      01/01/2020    5000    36  Employed - full time          car   \n",
       "\n",
       "   Success  ALL_AgeOfOldestAccount  ALL_AgeOfYoungestAccount  ALL_Count  \\\n",
       "0        0                     162                        17         18   \n",
       "1        0                     266                        30         14   \n",
       "2        0                      90                        52          4   \n",
       "3        0                     163                        19         14   \n",
       "4        0                     129                         2         38   \n",
       "\n",
       "   ALL_CountActive  ALL_CountClosedLast12Months  ALL_CountDefaultAccounts  \\\n",
       "0               12                            0                         0   \n",
       "1               10                            0                         4   \n",
       "2                2                            0                         1   \n",
       "3                6                            1                         1   \n",
       "4               19                            4                         9   \n",
       "\n",
       "   ALL_CountOpenedLast12Months  ALL_CountSettled  ALL_MeanAccountAge  \\\n",
       "0                            0                 6               70.94   \n",
       "1                            0                 4              104.79   \n",
       "2                            0                 2               68.25   \n",
       "3                            0                 8               67.50   \n",
       "4                            8                19               56.45   \n",
       "\n",
       "   ALL_SumCurrentOutstandingBal  ALL_SumCurrentOutstandingBalExcMtg  \\\n",
       "0                         68555                               15019   \n",
       "1                          2209                                2209   \n",
       "2                          5108                                5108   \n",
       "3                         25738                               25738   \n",
       "4                          5801                                5801   \n",
       "\n",
       "   ALL_TimeSinceMostRecentDefault  ALL_WorstPaymentStatusActiveAccounts  \n",
       "0                              -1                                     0  \n",
       "1                              -1                                     7  \n",
       "2                              -1                                     7  \n",
       "3                              -1                                     0  \n",
       "4                              -1                                     7  "
      ]
     },
     "execution_count": 13,
     "metadata": {},
     "output_type": "execute_result"
    }
   ],
   "source": [
    "merged_df.head()"
   ]
  },
  {
   "cell_type": "markdown",
   "id": "cb673bb7-7f95-44a8-9825-b0022e8158d5",
   "metadata": {},
   "source": [
    "#### Preprocess Credit Features"
   ]
  },
  {
   "cell_type": "markdown",
   "id": "f0a890b9-06d5-454a-b950-486347d7c87d",
   "metadata": {},
   "source": [
    "__Turn All_CountSettled/All_Count into a feature: the fraction of all that have been settled__\n"
   ]
  },
  {
   "cell_type": "code",
   "execution_count": 14,
   "id": "299ab2a2-6677-4781-bad5-2cb9e21a0090",
   "metadata": {},
   "outputs": [
    {
     "data": {
      "text/plain": [
       "0"
      ]
     },
     "execution_count": 14,
     "metadata": {},
     "output_type": "execute_result"
    }
   ],
   "source": [
    "# Check for 0s, as we are about to do division\n",
    "merged_df['ALL_Count'].min()"
   ]
  },
  {
   "cell_type": "code",
   "execution_count": 15,
   "id": "396edbc9-129d-4ef8-87fe-c83a038f4111",
   "metadata": {
    "tags": []
   },
   "outputs": [],
   "source": [
    "# Create new feature\n",
    "merged_df['fraction_ALL_closed'] = merged_df['ALL_CountSettled']/merged_df['ALL_Count']\n",
    "\n",
    "# Replace -inf values\n",
    "merged_df.loc[merged_df['ALL_Count']==0, 'fraction_ALL_closed'] = - 100"
   ]
  },
  {
   "cell_type": "markdown",
   "id": "5f7f7df4-87fe-4728-8bbe-c186bc7e2d52",
   "metadata": {},
   "source": [
    "__Turn ALL_CountClosedLast12Months - ALL_CountOpenedLast12Months into a feature__\n",
    "\n",
    "the difference between closed and opened accounts in the last 12m"
   ]
  },
  {
   "cell_type": "code",
   "execution_count": 19,
   "id": "ffac59d3-fcb8-41fe-b99e-a177fb565fff",
   "metadata": {
    "tags": []
   },
   "outputs": [],
   "source": [
    "merged_df['Closed_Opened_Diff_Last12m'] = merged_df['ALL_CountClosedLast12Months'] - merged_df['ALL_CountOpenedLast12Months']"
   ]
  },
  {
   "cell_type": "markdown",
   "id": "c44180c2-097b-457b-9f47-7bc2b6b9c2c3",
   "metadata": {},
   "source": [
    "## Export Data to Train on"
   ]
  },
  {
   "cell_type": "markdown",
   "id": "461dcf51-87fe-4e17-8621-3bbeabd37f22",
   "metadata": {
    "tags": []
   },
   "source": [
    "- use all features from application_samples\n",
    "- use all features from credit_features, except for:\n",
    "  - ALL_CountOpenedLast12Months\n",
    "  - ALL_CountClosedLast12Months\n",
    "  - ALL_TimeSinceMostRecentDefault\n",
    "  - ALL_CountSettled\n",
    "  - ApplicationDate\n",
    "  \n",
    "- include ALL_AgeOfYoungestAccount for now, but expect it to not be important to the model\n",
    "- use Closed_Opened_Diff_Last12m and fraction_ALL_closed"
   ]
  },
  {
   "cell_type": "code",
   "execution_count": 20,
   "id": "517e4644-e6df-469b-a579-1e748f1b041d",
   "metadata": {
    "tags": []
   },
   "outputs": [],
   "source": [
    "features_to_include = ['UID',\n",
    "                     'ALL_AgeOfOldestAccount',\n",
    "                     'ALL_AgeOfYoungestAccount',\n",
    "                     'ALL_Count',\n",
    "                     'ALL_CountActive',\n",
    "                     'ALL_CountDefaultAccounts',\n",
    "                     'ALL_MeanAccountAge',\n",
    "                     'ALL_SumCurrentOutstandingBal',\n",
    "                     'ALL_SumCurrentOutstandingBalExcMtg',\n",
    "                     'ALL_WorstPaymentStatusActiveAccounts',\n",
    "                     'Amount',\n",
    "                     'Term',\n",
    "                     'EmploymentType',\n",
    "                     'LoanPurpose',\n",
    "                     'Success',\n",
    "                     'fraction_ALL_closed',\n",
    "                     'Closed_Opened_Diff_Last12m'\n",
    "                      ]"
   ]
  },
  {
   "cell_type": "markdown",
   "id": "6d061696-e4ce-47eb-a1eb-bd069245923e",
   "metadata": {
    "tags": []
   },
   "source": [
    "### Save to parquet for model ingestion"
   ]
  },
  {
   "cell_type": "code",
   "execution_count": 23,
   "id": "17056443-f6c2-4876-9bd6-57437fc7619f",
   "metadata": {
    "tags": []
   },
   "outputs": [],
   "source": [
    "merged_df[features_to_include].to_parquet('./data_4_model.parquet')"
   ]
  },
  {
   "cell_type": "code",
   "execution_count": null,
   "id": "dcf0e81d-b204-49e2-b2e7-0d4543b0eb45",
   "metadata": {},
   "outputs": [],
   "source": []
  }
 ],
 "metadata": {
  "environment": {
   "kernel": "python3",
   "name": "tf2-gpu.2-6.m120",
   "type": "gcloud",
   "uri": "us-docker.pkg.dev/deeplearning-platform-release/gcr.io/tf2-gpu.2-6:m120"
  },
  "kernelspec": {
   "display_name": "Python 3 (Local)",
   "language": "python",
   "name": "python3"
  },
  "language_info": {
   "codemirror_mode": {
    "name": "ipython",
    "version": 3
   },
   "file_extension": ".py",
   "mimetype": "text/x-python",
   "name": "python",
   "nbconvert_exporter": "python",
   "pygments_lexer": "ipython3",
   "version": "3.9.19"
  }
 },
 "nbformat": 4,
 "nbformat_minor": 5
}
