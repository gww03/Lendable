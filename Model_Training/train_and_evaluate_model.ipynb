{
 "cells": [
  {
   "cell_type": "code",
   "execution_count": 1,
   "id": "15b3acc8-846d-4f62-9bd1-a7caefa8bb44",
   "metadata": {
    "tags": []
   },
   "outputs": [],
   "source": [
    "import matplotlib.pyplot as plt\n",
    "\n",
    "import numpy as np\n",
    "\n",
    "import pandas as pd\n",
    "\n",
    "import pickle\n",
    "\n",
    "from sklearn.metrics import precision_score, recall_score, precision_score, roc_auc_score, roc_curve\n",
    "from sklearn.model_selection import train_test_split\n",
    "\n",
    "from tqdm.notebook import tqdm\n",
    "\n",
    "import xgboost as xgb\n",
    "from xgboost import XGBClassifier\n",
    "\n",
    "# own modules\n",
    "import cleaning as cl"
   ]
  },
  {
   "cell_type": "markdown",
   "id": "a000a912-d821-425a-8f76-fbbdc1a8bc33",
   "metadata": {},
   "source": [
    "## Import Data"
   ]
  },
  {
   "cell_type": "code",
   "execution_count": 2,
   "id": "cfaf628b-c475-4d1a-9279-e8e11227c644",
   "metadata": {
    "tags": []
   },
   "outputs": [],
   "source": [
    "# Load in data\n",
    "\n",
    "df = pd.read_parquet('./data_4_model.parquet')"
   ]
  },
  {
   "cell_type": "code",
   "execution_count": 3,
   "id": "15eb96ec-a97e-47e5-97a1-b0a1dbe22696",
   "metadata": {
    "tags": []
   },
   "outputs": [
    {
     "data": {
      "text/html": [
       "<div>\n",
       "<style scoped>\n",
       "    .dataframe tbody tr th:only-of-type {\n",
       "        vertical-align: middle;\n",
       "    }\n",
       "\n",
       "    .dataframe tbody tr th {\n",
       "        vertical-align: top;\n",
       "    }\n",
       "\n",
       "    .dataframe thead th {\n",
       "        text-align: right;\n",
       "    }\n",
       "</style>\n",
       "<table border=\"1\" class=\"dataframe\">\n",
       "  <thead>\n",
       "    <tr style=\"text-align: right;\">\n",
       "      <th></th>\n",
       "      <th>ALL_AgeOfOldestAccount</th>\n",
       "      <th>ALL_AgeOfYoungestAccount</th>\n",
       "      <th>ALL_Count</th>\n",
       "      <th>ALL_CountActive</th>\n",
       "      <th>ALL_CountDefaultAccounts</th>\n",
       "      <th>ALL_MeanAccountAge</th>\n",
       "      <th>ALL_SumCurrentOutstandingBal</th>\n",
       "      <th>ALL_SumCurrentOutstandingBalExcMtg</th>\n",
       "      <th>ALL_WorstPaymentStatusActiveAccounts</th>\n",
       "      <th>Amount</th>\n",
       "      <th>Term</th>\n",
       "      <th>EmploymentType</th>\n",
       "      <th>LoanPurpose</th>\n",
       "      <th>Success</th>\n",
       "      <th>fraction_ALL_closed</th>\n",
       "      <th>Closed_Opened_Diff_Last12m</th>\n",
       "    </tr>\n",
       "  </thead>\n",
       "  <tbody>\n",
       "    <tr>\n",
       "      <th>0</th>\n",
       "      <td>162</td>\n",
       "      <td>17</td>\n",
       "      <td>18</td>\n",
       "      <td>12</td>\n",
       "      <td>0</td>\n",
       "      <td>70.94</td>\n",
       "      <td>68555</td>\n",
       "      <td>15019</td>\n",
       "      <td>0</td>\n",
       "      <td>2000</td>\n",
       "      <td>60</td>\n",
       "      <td>Employed - full time</td>\n",
       "      <td>bills</td>\n",
       "      <td>0</td>\n",
       "      <td>0.333333</td>\n",
       "      <td>0</td>\n",
       "    </tr>\n",
       "    <tr>\n",
       "      <th>1</th>\n",
       "      <td>266</td>\n",
       "      <td>30</td>\n",
       "      <td>14</td>\n",
       "      <td>10</td>\n",
       "      <td>4</td>\n",
       "      <td>104.79</td>\n",
       "      <td>2209</td>\n",
       "      <td>2209</td>\n",
       "      <td>7</td>\n",
       "      <td>3000</td>\n",
       "      <td>60</td>\n",
       "      <td>Employed - full time</td>\n",
       "      <td>non_grouped</td>\n",
       "      <td>0</td>\n",
       "      <td>0.285714</td>\n",
       "      <td>0</td>\n",
       "    </tr>\n",
       "    <tr>\n",
       "      <th>2</th>\n",
       "      <td>90</td>\n",
       "      <td>52</td>\n",
       "      <td>4</td>\n",
       "      <td>2</td>\n",
       "      <td>1</td>\n",
       "      <td>68.25</td>\n",
       "      <td>5108</td>\n",
       "      <td>5108</td>\n",
       "      <td>7</td>\n",
       "      <td>20000</td>\n",
       "      <td>60</td>\n",
       "      <td>Employed - full time</td>\n",
       "      <td>non_grouped</td>\n",
       "      <td>0</td>\n",
       "      <td>0.500000</td>\n",
       "      <td>0</td>\n",
       "    </tr>\n",
       "    <tr>\n",
       "      <th>3</th>\n",
       "      <td>163</td>\n",
       "      <td>19</td>\n",
       "      <td>14</td>\n",
       "      <td>6</td>\n",
       "      <td>1</td>\n",
       "      <td>67.50</td>\n",
       "      <td>25738</td>\n",
       "      <td>25738</td>\n",
       "      <td>0</td>\n",
       "      <td>20000</td>\n",
       "      <td>60</td>\n",
       "      <td>Self employed</td>\n",
       "      <td>non_grouped</td>\n",
       "      <td>0</td>\n",
       "      <td>0.571429</td>\n",
       "      <td>1</td>\n",
       "    </tr>\n",
       "    <tr>\n",
       "      <th>4</th>\n",
       "      <td>129</td>\n",
       "      <td>2</td>\n",
       "      <td>38</td>\n",
       "      <td>19</td>\n",
       "      <td>9</td>\n",
       "      <td>56.45</td>\n",
       "      <td>5801</td>\n",
       "      <td>5801</td>\n",
       "      <td>7</td>\n",
       "      <td>5000</td>\n",
       "      <td>36</td>\n",
       "      <td>Employed - full time</td>\n",
       "      <td>car</td>\n",
       "      <td>0</td>\n",
       "      <td>0.500000</td>\n",
       "      <td>-4</td>\n",
       "    </tr>\n",
       "  </tbody>\n",
       "</table>\n",
       "</div>"
      ],
      "text/plain": [
       "   ALL_AgeOfOldestAccount  ALL_AgeOfYoungestAccount  ALL_Count  \\\n",
       "0                     162                        17         18   \n",
       "1                     266                        30         14   \n",
       "2                      90                        52          4   \n",
       "3                     163                        19         14   \n",
       "4                     129                         2         38   \n",
       "\n",
       "   ALL_CountActive  ALL_CountDefaultAccounts  ALL_MeanAccountAge  \\\n",
       "0               12                         0               70.94   \n",
       "1               10                         4              104.79   \n",
       "2                2                         1               68.25   \n",
       "3                6                         1               67.50   \n",
       "4               19                         9               56.45   \n",
       "\n",
       "   ALL_SumCurrentOutstandingBal  ALL_SumCurrentOutstandingBalExcMtg  \\\n",
       "0                         68555                               15019   \n",
       "1                          2209                                2209   \n",
       "2                          5108                                5108   \n",
       "3                         25738                               25738   \n",
       "4                          5801                                5801   \n",
       "\n",
       "   ALL_WorstPaymentStatusActiveAccounts  Amount  Term        EmploymentType  \\\n",
       "0                                     0    2000    60  Employed - full time   \n",
       "1                                     7    3000    60  Employed - full time   \n",
       "2                                     7   20000    60  Employed - full time   \n",
       "3                                     0   20000    60         Self employed   \n",
       "4                                     7    5000    36  Employed - full time   \n",
       "\n",
       "   LoanPurpose  Success  fraction_ALL_closed  Closed_Opened_Diff_Last12m  \n",
       "0        bills        0             0.333333                           0  \n",
       "1  non_grouped        0             0.285714                           0  \n",
       "2  non_grouped        0             0.500000                           0  \n",
       "3  non_grouped        0             0.571429                           1  \n",
       "4          car        0             0.500000                          -4  "
      ]
     },
     "execution_count": 3,
     "metadata": {},
     "output_type": "execute_result"
    }
   ],
   "source": [
    "df.head()"
   ]
  },
  {
   "cell_type": "markdown",
   "id": "ed1c27e0-8f64-4997-b603-39d4afa27a43",
   "metadata": {
    "tags": []
   },
   "source": [
    "## Train / Eval / Test split"
   ]
  },
  {
   "cell_type": "code",
   "execution_count": 4,
   "id": "4d46b6e4-d662-4951-a497-f8feeacec4ad",
   "metadata": {
    "tags": []
   },
   "outputs": [],
   "source": [
    "# columns to retain\n",
    "target = 'Success'\n",
    "feature_list = df.columns.to_list() \n",
    "feature_list.remove(target)"
   ]
  },
  {
   "cell_type": "code",
   "execution_count": 5,
   "id": "e75b2f88-ef86-4495-998c-35fe780b24ce",
   "metadata": {
    "tags": []
   },
   "outputs": [
    {
     "data": {
      "text/plain": [
       "['ALL_AgeOfOldestAccount',\n",
       " 'ALL_AgeOfYoungestAccount',\n",
       " 'ALL_Count',\n",
       " 'ALL_CountActive',\n",
       " 'ALL_CountDefaultAccounts',\n",
       " 'ALL_MeanAccountAge',\n",
       " 'ALL_SumCurrentOutstandingBal',\n",
       " 'ALL_SumCurrentOutstandingBalExcMtg',\n",
       " 'ALL_WorstPaymentStatusActiveAccounts',\n",
       " 'Amount',\n",
       " 'Term',\n",
       " 'EmploymentType',\n",
       " 'LoanPurpose',\n",
       " 'fraction_ALL_closed',\n",
       " 'Closed_Opened_Diff_Last12m']"
      ]
     },
     "execution_count": 5,
     "metadata": {},
     "output_type": "execute_result"
    }
   ],
   "source": [
    "# columns to retain\n",
    "feature_list"
   ]
  },
  {
   "cell_type": "code",
   "execution_count": 6,
   "id": "01a47388-bddb-4e5f-9085-f2378ead708b",
   "metadata": {
    "tags": []
   },
   "outputs": [],
   "source": [
    "# Sample dataset (replace with your own data)\n",
    "X = df[feature_list].copy()                # Features\n",
    "y = df[target].astype('int').copy()        # Labels\n",
    "\n",
    "# Step 1: Split data into train (60%) and temp (40% for test + eval)\n",
    "X_train, X_temp, y_train, y_temp = train_test_split(X, y, test_size=0.4, random_state=42)\n",
    "\n",
    "# Step 2: Split the temp data into test (20%) and eval (20%)\n",
    "X_eval, X_test, y_eval, y_test = train_test_split(X_temp, y_temp, test_size=0.5, random_state=42)"
   ]
  },
  {
   "cell_type": "markdown",
   "id": "f5d98925-aa34-4220-8863-a35106dc41b0",
   "metadata": {},
   "source": [
    "## Engineer Features"
   ]
  },
  {
   "cell_type": "markdown",
   "id": "a2a9914e-4838-4f54-b8d2-18aae70955ac",
   "metadata": {},
   "source": [
    "### Clean\n",
    "\n",
    "- Reduce dataframe to columns of interest"
   ]
  },
  {
   "cell_type": "code",
   "execution_count": 7,
   "id": "5268c126-aae3-49fb-bc9f-3e7e8dc48d50",
   "metadata": {
    "tags": []
   },
   "outputs": [],
   "source": [
    "# instantiate data cleaner object\n",
    "\n",
    "data_cleaner = cl.data_cleaner()"
   ]
  },
  {
   "cell_type": "code",
   "execution_count": 8,
   "id": "14a106ce-875d-46e1-94a1-83e24b1dfeed",
   "metadata": {
    "tags": []
   },
   "outputs": [],
   "source": [
    "data_cleaner.feature_list = feature_list"
   ]
  },
  {
   "cell_type": "code",
   "execution_count": 9,
   "id": "4602ab49-eac3-4809-a02a-bad1f592dd34",
   "metadata": {
    "tags": []
   },
   "outputs": [],
   "source": [
    "# Reduce dataframe to columns of interest\n",
    "train_df = data_cleaner.select_features(X_train).copy()"
   ]
  },
  {
   "cell_type": "markdown",
   "id": "d8b3092c-f5fa-4bdc-a20b-f0a8e8884ab0",
   "metadata": {},
   "source": [
    "### Preprocess"
   ]
  },
  {
   "cell_type": "code",
   "execution_count": 10,
   "id": "d35f5156-fe31-4286-8706-84529e5056bd",
   "metadata": {
    "tags": []
   },
   "outputs": [],
   "source": [
    "# instantiate data preprocessor object\n",
    "\n",
    "data_preproc = cl.data_preprocessor()"
   ]
  },
  {
   "cell_type": "code",
   "execution_count": 11,
   "id": "5c758af3-36e5-409e-83c8-b146abb1d910",
   "metadata": {
    "tags": []
   },
   "outputs": [],
   "source": [
    "# Split features into numerical and categorical sets.\n",
    "NUMERICAL   = train_df.select_dtypes(include=[np.number]).columns.tolist()\n",
    "CATEGORICAL = train_df.select_dtypes(exclude=[np.number]).columns.tolist()\n",
    "\n",
    "# Convert numerical data to float and replcace NaN with numpy.nan\n",
    "for x in NUMERICAL:\n",
    "    train_df.loc[:, x] = train_df[x].astype(float).fillna(np.nan)"
   ]
  },
  {
   "cell_type": "markdown",
   "id": "90e30276-9bda-433b-9a91-7bd4fb8304d1",
   "metadata": {
    "tags": []
   },
   "source": [
    "#### Transform Numerical"
   ]
  },
  {
   "cell_type": "code",
   "execution_count": 12,
   "id": "f86f9641-c94d-4c74-8eb2-3cc6e81a2f7a",
   "metadata": {
    "tags": []
   },
   "outputs": [],
   "source": [
    "# Scale numerical features, using sklear MinMax scaler\n",
    "\n",
    "data_preproc.columns_to_scale = NUMERICAL\n",
    "train_df[NUMERICAL] = data_preproc.scaler.fit_transform( train_df[NUMERICAL] )\n"
   ]
  },
  {
   "cell_type": "markdown",
   "id": "a52022df-5d9a-4f6a-9420-0def5aeac9af",
   "metadata": {},
   "source": [
    "#### Transform categorical"
   ]
  },
  {
   "cell_type": "code",
   "execution_count": 13,
   "id": "139b4dcf-d44b-4d83-b2f9-470e293ad1e4",
   "metadata": {
    "tags": []
   },
   "outputs": [
    {
     "data": {
      "application/vnd.jupyter.widget-view+json": {
       "model_id": "98761b27aa6d4f309e2f55935453a037",
       "version_major": 2,
       "version_minor": 0
      },
      "text/plain": [
       "OHE categorical features:   0%|          | 0/2 [00:00<?, ?it/s]"
      ]
     },
     "metadata": {},
     "output_type": "display_data"
    }
   ],
   "source": [
    "# One Hot Encode categorical\n",
    "\n",
    "cat_enc_data = train_df[CATEGORICAL].copy()\n",
    "\n",
    "# One-hot encode categorical data\n",
    "for col in tqdm(CATEGORICAL, desc='OHE categorical features'):\n",
    "    cat_enc_data = pd.concat([cat_enc_data, pd.get_dummies(cat_enc_data[col], prefix=col)], axis=1)\n",
    "    cat_enc_data = cat_enc_data.drop(col, axis=1)\n",
    "    \n",
    "    \n",
    "# Ensure post OHE column names are XGBoost compatible\n",
    "cat_enc_data.columns = [col_name.replace('<','.lt.').replace('>','.gt.').replace('[','(').replace(']',')')  for col_name in cat_enc_data.columns]\n"
   ]
  },
  {
   "cell_type": "markdown",
   "id": "02513ea5-a808-4359-a2ff-50fdb6bfc9de",
   "metadata": {},
   "source": [
    "### Assemble for training\n",
    "\n",
    "overwrite X_train and y_train"
   ]
  },
  {
   "cell_type": "code",
   "execution_count": 14,
   "id": "affb9abf-3cdb-41b6-bdd9-8896da1ba777",
   "metadata": {
    "tags": []
   },
   "outputs": [],
   "source": [
    "# Create training feature set\n",
    "X_train = pd.concat([train_df[NUMERICAL], cat_enc_data],axis=1)"
   ]
  },
  {
   "cell_type": "code",
   "execution_count": 15,
   "id": "4fd42843-8eaa-4dd9-922b-88a727738543",
   "metadata": {
    "tags": []
   },
   "outputs": [],
   "source": [
    "# Save encoded feature list\n",
    "\n",
    "data_preproc.feature_encoded_list = X_train.columns.tolist()\n"
   ]
  },
  {
   "cell_type": "code",
   "execution_count": 16,
   "id": "e4dc6777-0ab5-4694-85aa-a8be509f1fc0",
   "metadata": {},
   "outputs": [],
   "source": [
    "del train_df"
   ]
  },
  {
   "cell_type": "markdown",
   "id": "a4f23a14-0450-4e5b-a3dc-62e7830e3005",
   "metadata": {},
   "source": [
    "## Preprocess eval dataset\n",
    "\n",
    "Apply the same data cleaning and preprocessing as was applied to the training dataset"
   ]
  },
  {
   "cell_type": "code",
   "execution_count": 17,
   "id": "d9a44a62-15c1-474d-865a-e1f6d672264a",
   "metadata": {
    "tags": []
   },
   "outputs": [],
   "source": [
    "# Apply data cleaner methods\n",
    "\n",
    "eval_df = data_cleaner.select_features(X_eval).copy()"
   ]
  },
  {
   "cell_type": "code",
   "execution_count": 18,
   "id": "0f9ebf33-2a33-4c15-8f8b-912fc72a6d2e",
   "metadata": {
    "tags": []
   },
   "outputs": [],
   "source": [
    "NUMERICAL   = eval_df.select_dtypes(include=[np.number]).columns.tolist()\n",
    "CATEGORICAL = eval_df.select_dtypes(exclude=[np.number]).columns.tolist()\n",
    "\n",
    "for x in NUMERICAL:\n",
    "    eval_df[x] = eval_df[x].astype(float).fillna(np.nan)\n"
   ]
  },
  {
   "cell_type": "code",
   "execution_count": 19,
   "id": "e4c6a6f3-6a03-4271-ad2c-e92eeb399f06",
   "metadata": {
    "tags": []
   },
   "outputs": [
    {
     "name": "stdout",
     "output_type": "stream",
     "text": [
      "diff1 =  set()\n",
      "diff2 =  set()\n"
     ]
    }
   ],
   "source": [
    "# Apply preprocessor (minmax scaler + one_hot_encode)\n",
    "eval_df   = data_preproc.apply_scaler(eval_df)    \n",
    "X_eval    = data_preproc.one_hot_encode(eval_df)"
   ]
  },
  {
   "cell_type": "code",
   "execution_count": 20,
   "id": "952716e7-e64f-4cee-b6de-77c2369a0067",
   "metadata": {
    "tags": []
   },
   "outputs": [
    {
     "data": {
      "text/html": [
       "<div>\n",
       "<style scoped>\n",
       "    .dataframe tbody tr th:only-of-type {\n",
       "        vertical-align: middle;\n",
       "    }\n",
       "\n",
       "    .dataframe tbody tr th {\n",
       "        vertical-align: top;\n",
       "    }\n",
       "\n",
       "    .dataframe thead th {\n",
       "        text-align: right;\n",
       "    }\n",
       "</style>\n",
       "<table border=\"1\" class=\"dataframe\">\n",
       "  <thead>\n",
       "    <tr style=\"text-align: right;\">\n",
       "      <th></th>\n",
       "      <th>ALL_Count</th>\n",
       "      <th>ALL_AgeOfOldestAccount</th>\n",
       "      <th>ALL_CountActive</th>\n",
       "      <th>ALL_MeanAccountAge</th>\n",
       "      <th>Closed_Opened_Diff_Last12m</th>\n",
       "      <th>Term</th>\n",
       "      <th>ALL_AgeOfYoungestAccount</th>\n",
       "      <th>fraction_ALL_closed</th>\n",
       "      <th>ALL_SumCurrentOutstandingBalExcMtg</th>\n",
       "      <th>Amount</th>\n",
       "      <th>...</th>\n",
       "      <th>LoanPurpose_bike</th>\n",
       "      <th>LoanPurpose_bills</th>\n",
       "      <th>LoanPurpose_car</th>\n",
       "      <th>LoanPurpose_debt consolidation</th>\n",
       "      <th>LoanPurpose_expenses</th>\n",
       "      <th>LoanPurpose_home improvement</th>\n",
       "      <th>LoanPurpose_medical</th>\n",
       "      <th>LoanPurpose_non_grouped</th>\n",
       "      <th>LoanPurpose_other</th>\n",
       "      <th>LoanPurpose_repairs</th>\n",
       "    </tr>\n",
       "  </thead>\n",
       "  <tbody>\n",
       "    <tr>\n",
       "      <th>8604</th>\n",
       "      <td>0.077253</td>\n",
       "      <td>0.177</td>\n",
       "      <td>0.227273</td>\n",
       "      <td>0.310754</td>\n",
       "      <td>0.588235</td>\n",
       "      <td>0.00</td>\n",
       "      <td>0.038610</td>\n",
       "      <td>0.995050</td>\n",
       "      <td>0.006414</td>\n",
       "      <td>0.076923</td>\n",
       "      <td>...</td>\n",
       "      <td>False</td>\n",
       "      <td>False</td>\n",
       "      <td>False</td>\n",
       "      <td>False</td>\n",
       "      <td>False</td>\n",
       "      <td>False</td>\n",
       "      <td>False</td>\n",
       "      <td>True</td>\n",
       "      <td>False</td>\n",
       "      <td>False</td>\n",
       "    </tr>\n",
       "    <tr>\n",
       "      <th>1465</th>\n",
       "      <td>0.133047</td>\n",
       "      <td>0.282</td>\n",
       "      <td>0.431818</td>\n",
       "      <td>0.287574</td>\n",
       "      <td>0.529412</td>\n",
       "      <td>0.75</td>\n",
       "      <td>0.007722</td>\n",
       "      <td>0.994251</td>\n",
       "      <td>0.148285</td>\n",
       "      <td>0.307692</td>\n",
       "      <td>...</td>\n",
       "      <td>False</td>\n",
       "      <td>False</td>\n",
       "      <td>True</td>\n",
       "      <td>False</td>\n",
       "      <td>False</td>\n",
       "      <td>False</td>\n",
       "      <td>False</td>\n",
       "      <td>False</td>\n",
       "      <td>False</td>\n",
       "      <td>False</td>\n",
       "    </tr>\n",
       "    <tr>\n",
       "      <th>4463</th>\n",
       "      <td>0.068670</td>\n",
       "      <td>0.098</td>\n",
       "      <td>0.295455</td>\n",
       "      <td>0.160262</td>\n",
       "      <td>0.588235</td>\n",
       "      <td>0.50</td>\n",
       "      <td>0.019305</td>\n",
       "      <td>0.992574</td>\n",
       "      <td>0.029984</td>\n",
       "      <td>0.743590</td>\n",
       "      <td>...</td>\n",
       "      <td>False</td>\n",
       "      <td>False</td>\n",
       "      <td>False</td>\n",
       "      <td>True</td>\n",
       "      <td>False</td>\n",
       "      <td>False</td>\n",
       "      <td>False</td>\n",
       "      <td>False</td>\n",
       "      <td>False</td>\n",
       "      <td>False</td>\n",
       "    </tr>\n",
       "    <tr>\n",
       "      <th>8273</th>\n",
       "      <td>0.025751</td>\n",
       "      <td>0.080</td>\n",
       "      <td>0.159091</td>\n",
       "      <td>0.116393</td>\n",
       "      <td>0.558824</td>\n",
       "      <td>0.25</td>\n",
       "      <td>0.081081</td>\n",
       "      <td>0.990099</td>\n",
       "      <td>0.002575</td>\n",
       "      <td>0.025641</td>\n",
       "      <td>...</td>\n",
       "      <td>False</td>\n",
       "      <td>False</td>\n",
       "      <td>False</td>\n",
       "      <td>False</td>\n",
       "      <td>False</td>\n",
       "      <td>True</td>\n",
       "      <td>False</td>\n",
       "      <td>False</td>\n",
       "      <td>False</td>\n",
       "      <td>False</td>\n",
       "    </tr>\n",
       "    <tr>\n",
       "      <th>2876</th>\n",
       "      <td>0.077253</td>\n",
       "      <td>0.123</td>\n",
       "      <td>0.227273</td>\n",
       "      <td>0.135869</td>\n",
       "      <td>0.500000</td>\n",
       "      <td>0.25</td>\n",
       "      <td>0.015444</td>\n",
       "      <td>0.995050</td>\n",
       "      <td>0.009820</td>\n",
       "      <td>0.179487</td>\n",
       "      <td>...</td>\n",
       "      <td>False</td>\n",
       "      <td>False</td>\n",
       "      <td>False</td>\n",
       "      <td>True</td>\n",
       "      <td>False</td>\n",
       "      <td>False</td>\n",
       "      <td>False</td>\n",
       "      <td>False</td>\n",
       "      <td>False</td>\n",
       "      <td>False</td>\n",
       "    </tr>\n",
       "  </tbody>\n",
       "</table>\n",
       "<p>5 rows × 27 columns</p>\n",
       "</div>"
      ],
      "text/plain": [
       "      ALL_Count  ALL_AgeOfOldestAccount  ALL_CountActive  ALL_MeanAccountAge  \\\n",
       "8604   0.077253                   0.177         0.227273            0.310754   \n",
       "1465   0.133047                   0.282         0.431818            0.287574   \n",
       "4463   0.068670                   0.098         0.295455            0.160262   \n",
       "8273   0.025751                   0.080         0.159091            0.116393   \n",
       "2876   0.077253                   0.123         0.227273            0.135869   \n",
       "\n",
       "      Closed_Opened_Diff_Last12m  Term  ALL_AgeOfYoungestAccount  \\\n",
       "8604                    0.588235  0.00                  0.038610   \n",
       "1465                    0.529412  0.75                  0.007722   \n",
       "4463                    0.588235  0.50                  0.019305   \n",
       "8273                    0.558824  0.25                  0.081081   \n",
       "2876                    0.500000  0.25                  0.015444   \n",
       "\n",
       "      fraction_ALL_closed  ALL_SumCurrentOutstandingBalExcMtg    Amount  ...  \\\n",
       "8604             0.995050                            0.006414  0.076923  ...   \n",
       "1465             0.994251                            0.148285  0.307692  ...   \n",
       "4463             0.992574                            0.029984  0.743590  ...   \n",
       "8273             0.990099                            0.002575  0.025641  ...   \n",
       "2876             0.995050                            0.009820  0.179487  ...   \n",
       "\n",
       "      LoanPurpose_bike  LoanPurpose_bills  LoanPurpose_car  \\\n",
       "8604             False              False            False   \n",
       "1465             False              False             True   \n",
       "4463             False              False            False   \n",
       "8273             False              False            False   \n",
       "2876             False              False            False   \n",
       "\n",
       "      LoanPurpose_debt consolidation  LoanPurpose_expenses  \\\n",
       "8604                           False                 False   \n",
       "1465                           False                 False   \n",
       "4463                            True                 False   \n",
       "8273                           False                 False   \n",
       "2876                            True                 False   \n",
       "\n",
       "      LoanPurpose_home improvement  LoanPurpose_medical  \\\n",
       "8604                         False                False   \n",
       "1465                         False                False   \n",
       "4463                         False                False   \n",
       "8273                          True                False   \n",
       "2876                         False                False   \n",
       "\n",
       "      LoanPurpose_non_grouped  LoanPurpose_other  LoanPurpose_repairs  \n",
       "8604                     True              False                False  \n",
       "1465                    False              False                False  \n",
       "4463                    False              False                False  \n",
       "8273                    False              False                False  \n",
       "2876                    False              False                False  \n",
       "\n",
       "[5 rows x 27 columns]"
      ]
     },
     "execution_count": 20,
     "metadata": {},
     "output_type": "execute_result"
    }
   ],
   "source": [
    "X_eval.head()"
   ]
  },
  {
   "cell_type": "code",
   "execution_count": 21,
   "id": "644edd40-9b48-4ab0-8d10-3ca7f3f8ddee",
   "metadata": {},
   "outputs": [],
   "source": [
    "del eval_df"
   ]
  },
  {
   "cell_type": "markdown",
   "id": "27803af8-9a43-46c2-b4f5-4decb6c8cc0e",
   "metadata": {
    "tags": []
   },
   "source": [
    "# Fit Model"
   ]
  },
  {
   "cell_type": "code",
   "execution_count": 22,
   "id": "ce99c6e7-5075-410c-8089-0ed632d7f639",
   "metadata": {
    "tags": []
   },
   "outputs": [],
   "source": [
    "# declare parameters\n",
    "\n",
    "params = {\n",
    "    'max_depth': 3,  # Shallow trees\n",
    "    'min_child_weight': 5,  # Increase to prevent small leaves\n",
    "    'subsample': 0.8,  # Use 80% of the data per tree\n",
    "    'colsample_bytree': 0.8,  # Use 80% of the features per tree\n",
    "    'eta': 0.1,  # Learning rate\n",
    "    'objective': 'binary:logistic',\n",
    "    'lambda': 10,\n",
    "    'alpha': 10\n",
    "        }\n",
    "\n",
    "# instantiate the classifier \n",
    "model = XGBClassifier(**params)\n",
    "#model = XGBClassifier(n_estimators=100, max_depth=5)\n"
   ]
  },
  {
   "cell_type": "code",
   "execution_count": 23,
   "id": "3550b7ff-e5bb-406b-8526-c11dd082bd13",
   "metadata": {
    "tags": []
   },
   "outputs": [
    {
     "name": "stdout",
     "output_type": "stream",
     "text": [
      "[0]\tvalidation_0-logloss:0.35865\n",
      "[1]\tvalidation_0-logloss:0.35301\n",
      "[2]\tvalidation_0-logloss:0.34777\n",
      "[3]\tvalidation_0-logloss:0.34320\n",
      "[4]\tvalidation_0-logloss:0.33650\n",
      "[5]\tvalidation_0-logloss:0.33037\n",
      "[6]\tvalidation_0-logloss:0.32484\n",
      "[7]\tvalidation_0-logloss:0.32157\n",
      "[8]\tvalidation_0-logloss:0.31973\n",
      "[9]\tvalidation_0-logloss:0.31717\n",
      "[10]\tvalidation_0-logloss:0.31474\n",
      "[11]\tvalidation_0-logloss:0.31258\n",
      "[12]\tvalidation_0-logloss:0.31048\n",
      "[13]\tvalidation_0-logloss:0.30688\n",
      "[14]\tvalidation_0-logloss:0.30385\n",
      "[15]\tvalidation_0-logloss:0.30098\n",
      "[16]\tvalidation_0-logloss:0.29864\n",
      "[17]\tvalidation_0-logloss:0.29669\n",
      "[18]\tvalidation_0-logloss:0.29488\n",
      "[19]\tvalidation_0-logloss:0.29308\n",
      "[20]\tvalidation_0-logloss:0.29216\n",
      "[21]\tvalidation_0-logloss:0.29055\n",
      "[22]\tvalidation_0-logloss:0.28971\n",
      "[23]\tvalidation_0-logloss:0.28815\n",
      "[24]\tvalidation_0-logloss:0.28739\n",
      "[25]\tvalidation_0-logloss:0.28676\n",
      "[26]\tvalidation_0-logloss:0.28651\n",
      "[27]\tvalidation_0-logloss:0.28546\n",
      "[28]\tvalidation_0-logloss:0.28425\n",
      "[29]\tvalidation_0-logloss:0.28327\n",
      "[30]\tvalidation_0-logloss:0.28248\n",
      "[31]\tvalidation_0-logloss:0.28152\n",
      "[32]\tvalidation_0-logloss:0.28112\n",
      "[33]\tvalidation_0-logloss:0.28055\n",
      "[34]\tvalidation_0-logloss:0.27974\n",
      "[35]\tvalidation_0-logloss:0.27883\n",
      "[36]\tvalidation_0-logloss:0.27811\n",
      "[37]\tvalidation_0-logloss:0.27797\n",
      "[38]\tvalidation_0-logloss:0.27757\n",
      "[39]\tvalidation_0-logloss:0.27707\n",
      "[40]\tvalidation_0-logloss:0.27686\n",
      "[41]\tvalidation_0-logloss:0.27640\n",
      "[42]\tvalidation_0-logloss:0.27606\n",
      "[43]\tvalidation_0-logloss:0.27610\n",
      "[44]\tvalidation_0-logloss:0.27560\n",
      "[45]\tvalidation_0-logloss:0.27511\n",
      "[46]\tvalidation_0-logloss:0.27437\n",
      "[47]\tvalidation_0-logloss:0.27413\n",
      "[48]\tvalidation_0-logloss:0.27372\n",
      "[49]\tvalidation_0-logloss:0.27334\n",
      "[50]\tvalidation_0-logloss:0.27300\n",
      "[51]\tvalidation_0-logloss:0.27259\n",
      "[52]\tvalidation_0-logloss:0.27221\n",
      "[53]\tvalidation_0-logloss:0.27223\n",
      "[54]\tvalidation_0-logloss:0.27204\n",
      "[55]\tvalidation_0-logloss:0.27180\n",
      "[56]\tvalidation_0-logloss:0.27138\n",
      "[57]\tvalidation_0-logloss:0.27091\n",
      "[58]\tvalidation_0-logloss:0.27057\n",
      "[59]\tvalidation_0-logloss:0.27016\n",
      "[60]\tvalidation_0-logloss:0.26999\n",
      "[61]\tvalidation_0-logloss:0.26964\n",
      "[62]\tvalidation_0-logloss:0.26932\n",
      "[63]\tvalidation_0-logloss:0.26899\n",
      "[64]\tvalidation_0-logloss:0.26911\n",
      "[65]\tvalidation_0-logloss:0.26881\n",
      "[66]\tvalidation_0-logloss:0.26859\n",
      "[67]\tvalidation_0-logloss:0.26848\n",
      "[68]\tvalidation_0-logloss:0.26854\n",
      "[69]\tvalidation_0-logloss:0.26862\n",
      "[70]\tvalidation_0-logloss:0.26842\n",
      "[71]\tvalidation_0-logloss:0.26816\n",
      "[72]\tvalidation_0-logloss:0.26811\n",
      "[73]\tvalidation_0-logloss:0.26790\n",
      "[74]\tvalidation_0-logloss:0.26774\n",
      "[75]\tvalidation_0-logloss:0.26752\n",
      "[76]\tvalidation_0-logloss:0.26751\n",
      "[77]\tvalidation_0-logloss:0.26746\n",
      "[78]\tvalidation_0-logloss:0.26757\n",
      "[79]\tvalidation_0-logloss:0.26743\n",
      "[80]\tvalidation_0-logloss:0.26732\n",
      "[81]\tvalidation_0-logloss:0.26745\n",
      "[82]\tvalidation_0-logloss:0.26722\n",
      "[83]\tvalidation_0-logloss:0.26719\n",
      "[84]\tvalidation_0-logloss:0.26709\n",
      "[85]\tvalidation_0-logloss:0.26697\n",
      "[86]\tvalidation_0-logloss:0.26696\n",
      "[87]\tvalidation_0-logloss:0.26672\n",
      "[88]\tvalidation_0-logloss:0.26651\n",
      "[89]\tvalidation_0-logloss:0.26672\n",
      "[90]\tvalidation_0-logloss:0.26673\n",
      "[91]\tvalidation_0-logloss:0.26655\n",
      "[92]\tvalidation_0-logloss:0.26664\n",
      "[93]\tvalidation_0-logloss:0.26645\n",
      "[94]\tvalidation_0-logloss:0.26620\n",
      "[95]\tvalidation_0-logloss:0.26621\n",
      "[96]\tvalidation_0-logloss:0.26621\n",
      "[97]\tvalidation_0-logloss:0.26609\n",
      "[98]\tvalidation_0-logloss:0.26595\n",
      "[99]\tvalidation_0-logloss:0.26600\n"
     ]
    },
    {
     "data": {
      "text/html": [
       "<style>#sk-container-id-1 {\n",
       "  /* Definition of color scheme common for light and dark mode */\n",
       "  --sklearn-color-text: black;\n",
       "  --sklearn-color-line: gray;\n",
       "  /* Definition of color scheme for unfitted estimators */\n",
       "  --sklearn-color-unfitted-level-0: #fff5e6;\n",
       "  --sklearn-color-unfitted-level-1: #f6e4d2;\n",
       "  --sklearn-color-unfitted-level-2: #ffe0b3;\n",
       "  --sklearn-color-unfitted-level-3: chocolate;\n",
       "  /* Definition of color scheme for fitted estimators */\n",
       "  --sklearn-color-fitted-level-0: #f0f8ff;\n",
       "  --sklearn-color-fitted-level-1: #d4ebff;\n",
       "  --sklearn-color-fitted-level-2: #b3dbfd;\n",
       "  --sklearn-color-fitted-level-3: cornflowerblue;\n",
       "\n",
       "  /* Specific color for light theme */\n",
       "  --sklearn-color-text-on-default-background: var(--sg-text-color, var(--theme-code-foreground, var(--jp-content-font-color1, black)));\n",
       "  --sklearn-color-background: var(--sg-background-color, var(--theme-background, var(--jp-layout-color0, white)));\n",
       "  --sklearn-color-border-box: var(--sg-text-color, var(--theme-code-foreground, var(--jp-content-font-color1, black)));\n",
       "  --sklearn-color-icon: #696969;\n",
       "\n",
       "  @media (prefers-color-scheme: dark) {\n",
       "    /* Redefinition of color scheme for dark theme */\n",
       "    --sklearn-color-text-on-default-background: var(--sg-text-color, var(--theme-code-foreground, var(--jp-content-font-color1, white)));\n",
       "    --sklearn-color-background: var(--sg-background-color, var(--theme-background, var(--jp-layout-color0, #111)));\n",
       "    --sklearn-color-border-box: var(--sg-text-color, var(--theme-code-foreground, var(--jp-content-font-color1, white)));\n",
       "    --sklearn-color-icon: #878787;\n",
       "  }\n",
       "}\n",
       "\n",
       "#sk-container-id-1 {\n",
       "  color: var(--sklearn-color-text);\n",
       "}\n",
       "\n",
       "#sk-container-id-1 pre {\n",
       "  padding: 0;\n",
       "}\n",
       "\n",
       "#sk-container-id-1 input.sk-hidden--visually {\n",
       "  border: 0;\n",
       "  clip: rect(1px 1px 1px 1px);\n",
       "  clip: rect(1px, 1px, 1px, 1px);\n",
       "  height: 1px;\n",
       "  margin: -1px;\n",
       "  overflow: hidden;\n",
       "  padding: 0;\n",
       "  position: absolute;\n",
       "  width: 1px;\n",
       "}\n",
       "\n",
       "#sk-container-id-1 div.sk-dashed-wrapped {\n",
       "  border: 1px dashed var(--sklearn-color-line);\n",
       "  margin: 0 0.4em 0.5em 0.4em;\n",
       "  box-sizing: border-box;\n",
       "  padding-bottom: 0.4em;\n",
       "  background-color: var(--sklearn-color-background);\n",
       "}\n",
       "\n",
       "#sk-container-id-1 div.sk-container {\n",
       "  /* jupyter's `normalize.less` sets `[hidden] { display: none; }`\n",
       "     but bootstrap.min.css set `[hidden] { display: none !important; }`\n",
       "     so we also need the `!important` here to be able to override the\n",
       "     default hidden behavior on the sphinx rendered scikit-learn.org.\n",
       "     See: https://github.com/scikit-learn/scikit-learn/issues/21755 */\n",
       "  display: inline-block !important;\n",
       "  position: relative;\n",
       "}\n",
       "\n",
       "#sk-container-id-1 div.sk-text-repr-fallback {\n",
       "  display: none;\n",
       "}\n",
       "\n",
       "div.sk-parallel-item,\n",
       "div.sk-serial,\n",
       "div.sk-item {\n",
       "  /* draw centered vertical line to link estimators */\n",
       "  background-image: linear-gradient(var(--sklearn-color-text-on-default-background), var(--sklearn-color-text-on-default-background));\n",
       "  background-size: 2px 100%;\n",
       "  background-repeat: no-repeat;\n",
       "  background-position: center center;\n",
       "}\n",
       "\n",
       "/* Parallel-specific style estimator block */\n",
       "\n",
       "#sk-container-id-1 div.sk-parallel-item::after {\n",
       "  content: \"\";\n",
       "  width: 100%;\n",
       "  border-bottom: 2px solid var(--sklearn-color-text-on-default-background);\n",
       "  flex-grow: 1;\n",
       "}\n",
       "\n",
       "#sk-container-id-1 div.sk-parallel {\n",
       "  display: flex;\n",
       "  align-items: stretch;\n",
       "  justify-content: center;\n",
       "  background-color: var(--sklearn-color-background);\n",
       "  position: relative;\n",
       "}\n",
       "\n",
       "#sk-container-id-1 div.sk-parallel-item {\n",
       "  display: flex;\n",
       "  flex-direction: column;\n",
       "}\n",
       "\n",
       "#sk-container-id-1 div.sk-parallel-item:first-child::after {\n",
       "  align-self: flex-end;\n",
       "  width: 50%;\n",
       "}\n",
       "\n",
       "#sk-container-id-1 div.sk-parallel-item:last-child::after {\n",
       "  align-self: flex-start;\n",
       "  width: 50%;\n",
       "}\n",
       "\n",
       "#sk-container-id-1 div.sk-parallel-item:only-child::after {\n",
       "  width: 0;\n",
       "}\n",
       "\n",
       "/* Serial-specific style estimator block */\n",
       "\n",
       "#sk-container-id-1 div.sk-serial {\n",
       "  display: flex;\n",
       "  flex-direction: column;\n",
       "  align-items: center;\n",
       "  background-color: var(--sklearn-color-background);\n",
       "  padding-right: 1em;\n",
       "  padding-left: 1em;\n",
       "}\n",
       "\n",
       "\n",
       "/* Toggleable style: style used for estimator/Pipeline/ColumnTransformer box that is\n",
       "clickable and can be expanded/collapsed.\n",
       "- Pipeline and ColumnTransformer use this feature and define the default style\n",
       "- Estimators will overwrite some part of the style using the `sk-estimator` class\n",
       "*/\n",
       "\n",
       "/* Pipeline and ColumnTransformer style (default) */\n",
       "\n",
       "#sk-container-id-1 div.sk-toggleable {\n",
       "  /* Default theme specific background. It is overwritten whether we have a\n",
       "  specific estimator or a Pipeline/ColumnTransformer */\n",
       "  background-color: var(--sklearn-color-background);\n",
       "}\n",
       "\n",
       "/* Toggleable label */\n",
       "#sk-container-id-1 label.sk-toggleable__label {\n",
       "  cursor: pointer;\n",
       "  display: block;\n",
       "  width: 100%;\n",
       "  margin-bottom: 0;\n",
       "  padding: 0.5em;\n",
       "  box-sizing: border-box;\n",
       "  text-align: center;\n",
       "}\n",
       "\n",
       "#sk-container-id-1 label.sk-toggleable__label-arrow:before {\n",
       "  /* Arrow on the left of the label */\n",
       "  content: \"▸\";\n",
       "  float: left;\n",
       "  margin-right: 0.25em;\n",
       "  color: var(--sklearn-color-icon);\n",
       "}\n",
       "\n",
       "#sk-container-id-1 label.sk-toggleable__label-arrow:hover:before {\n",
       "  color: var(--sklearn-color-text);\n",
       "}\n",
       "\n",
       "/* Toggleable content - dropdown */\n",
       "\n",
       "#sk-container-id-1 div.sk-toggleable__content {\n",
       "  max-height: 0;\n",
       "  max-width: 0;\n",
       "  overflow: hidden;\n",
       "  text-align: left;\n",
       "  /* unfitted */\n",
       "  background-color: var(--sklearn-color-unfitted-level-0);\n",
       "}\n",
       "\n",
       "#sk-container-id-1 div.sk-toggleable__content.fitted {\n",
       "  /* fitted */\n",
       "  background-color: var(--sklearn-color-fitted-level-0);\n",
       "}\n",
       "\n",
       "#sk-container-id-1 div.sk-toggleable__content pre {\n",
       "  margin: 0.2em;\n",
       "  border-radius: 0.25em;\n",
       "  color: var(--sklearn-color-text);\n",
       "  /* unfitted */\n",
       "  background-color: var(--sklearn-color-unfitted-level-0);\n",
       "}\n",
       "\n",
       "#sk-container-id-1 div.sk-toggleable__content.fitted pre {\n",
       "  /* unfitted */\n",
       "  background-color: var(--sklearn-color-fitted-level-0);\n",
       "}\n",
       "\n",
       "#sk-container-id-1 input.sk-toggleable__control:checked~div.sk-toggleable__content {\n",
       "  /* Expand drop-down */\n",
       "  max-height: 200px;\n",
       "  max-width: 100%;\n",
       "  overflow: auto;\n",
       "}\n",
       "\n",
       "#sk-container-id-1 input.sk-toggleable__control:checked~label.sk-toggleable__label-arrow:before {\n",
       "  content: \"▾\";\n",
       "}\n",
       "\n",
       "/* Pipeline/ColumnTransformer-specific style */\n",
       "\n",
       "#sk-container-id-1 div.sk-label input.sk-toggleable__control:checked~label.sk-toggleable__label {\n",
       "  color: var(--sklearn-color-text);\n",
       "  background-color: var(--sklearn-color-unfitted-level-2);\n",
       "}\n",
       "\n",
       "#sk-container-id-1 div.sk-label.fitted input.sk-toggleable__control:checked~label.sk-toggleable__label {\n",
       "  background-color: var(--sklearn-color-fitted-level-2);\n",
       "}\n",
       "\n",
       "/* Estimator-specific style */\n",
       "\n",
       "/* Colorize estimator box */\n",
       "#sk-container-id-1 div.sk-estimator input.sk-toggleable__control:checked~label.sk-toggleable__label {\n",
       "  /* unfitted */\n",
       "  background-color: var(--sklearn-color-unfitted-level-2);\n",
       "}\n",
       "\n",
       "#sk-container-id-1 div.sk-estimator.fitted input.sk-toggleable__control:checked~label.sk-toggleable__label {\n",
       "  /* fitted */\n",
       "  background-color: var(--sklearn-color-fitted-level-2);\n",
       "}\n",
       "\n",
       "#sk-container-id-1 div.sk-label label.sk-toggleable__label,\n",
       "#sk-container-id-1 div.sk-label label {\n",
       "  /* The background is the default theme color */\n",
       "  color: var(--sklearn-color-text-on-default-background);\n",
       "}\n",
       "\n",
       "/* On hover, darken the color of the background */\n",
       "#sk-container-id-1 div.sk-label:hover label.sk-toggleable__label {\n",
       "  color: var(--sklearn-color-text);\n",
       "  background-color: var(--sklearn-color-unfitted-level-2);\n",
       "}\n",
       "\n",
       "/* Label box, darken color on hover, fitted */\n",
       "#sk-container-id-1 div.sk-label.fitted:hover label.sk-toggleable__label.fitted {\n",
       "  color: var(--sklearn-color-text);\n",
       "  background-color: var(--sklearn-color-fitted-level-2);\n",
       "}\n",
       "\n",
       "/* Estimator label */\n",
       "\n",
       "#sk-container-id-1 div.sk-label label {\n",
       "  font-family: monospace;\n",
       "  font-weight: bold;\n",
       "  display: inline-block;\n",
       "  line-height: 1.2em;\n",
       "}\n",
       "\n",
       "#sk-container-id-1 div.sk-label-container {\n",
       "  text-align: center;\n",
       "}\n",
       "\n",
       "/* Estimator-specific */\n",
       "#sk-container-id-1 div.sk-estimator {\n",
       "  font-family: monospace;\n",
       "  border: 1px dotted var(--sklearn-color-border-box);\n",
       "  border-radius: 0.25em;\n",
       "  box-sizing: border-box;\n",
       "  margin-bottom: 0.5em;\n",
       "  /* unfitted */\n",
       "  background-color: var(--sklearn-color-unfitted-level-0);\n",
       "}\n",
       "\n",
       "#sk-container-id-1 div.sk-estimator.fitted {\n",
       "  /* fitted */\n",
       "  background-color: var(--sklearn-color-fitted-level-0);\n",
       "}\n",
       "\n",
       "/* on hover */\n",
       "#sk-container-id-1 div.sk-estimator:hover {\n",
       "  /* unfitted */\n",
       "  background-color: var(--sklearn-color-unfitted-level-2);\n",
       "}\n",
       "\n",
       "#sk-container-id-1 div.sk-estimator.fitted:hover {\n",
       "  /* fitted */\n",
       "  background-color: var(--sklearn-color-fitted-level-2);\n",
       "}\n",
       "\n",
       "/* Specification for estimator info (e.g. \"i\" and \"?\") */\n",
       "\n",
       "/* Common style for \"i\" and \"?\" */\n",
       "\n",
       ".sk-estimator-doc-link,\n",
       "a:link.sk-estimator-doc-link,\n",
       "a:visited.sk-estimator-doc-link {\n",
       "  float: right;\n",
       "  font-size: smaller;\n",
       "  line-height: 1em;\n",
       "  font-family: monospace;\n",
       "  background-color: var(--sklearn-color-background);\n",
       "  border-radius: 1em;\n",
       "  height: 1em;\n",
       "  width: 1em;\n",
       "  text-decoration: none !important;\n",
       "  margin-left: 1ex;\n",
       "  /* unfitted */\n",
       "  border: var(--sklearn-color-unfitted-level-1) 1pt solid;\n",
       "  color: var(--sklearn-color-unfitted-level-1);\n",
       "}\n",
       "\n",
       ".sk-estimator-doc-link.fitted,\n",
       "a:link.sk-estimator-doc-link.fitted,\n",
       "a:visited.sk-estimator-doc-link.fitted {\n",
       "  /* fitted */\n",
       "  border: var(--sklearn-color-fitted-level-1) 1pt solid;\n",
       "  color: var(--sklearn-color-fitted-level-1);\n",
       "}\n",
       "\n",
       "/* On hover */\n",
       "div.sk-estimator:hover .sk-estimator-doc-link:hover,\n",
       ".sk-estimator-doc-link:hover,\n",
       "div.sk-label-container:hover .sk-estimator-doc-link:hover,\n",
       ".sk-estimator-doc-link:hover {\n",
       "  /* unfitted */\n",
       "  background-color: var(--sklearn-color-unfitted-level-3);\n",
       "  color: var(--sklearn-color-background);\n",
       "  text-decoration: none;\n",
       "}\n",
       "\n",
       "div.sk-estimator.fitted:hover .sk-estimator-doc-link.fitted:hover,\n",
       ".sk-estimator-doc-link.fitted:hover,\n",
       "div.sk-label-container:hover .sk-estimator-doc-link.fitted:hover,\n",
       ".sk-estimator-doc-link.fitted:hover {\n",
       "  /* fitted */\n",
       "  background-color: var(--sklearn-color-fitted-level-3);\n",
       "  color: var(--sklearn-color-background);\n",
       "  text-decoration: none;\n",
       "}\n",
       "\n",
       "/* Span, style for the box shown on hovering the info icon */\n",
       ".sk-estimator-doc-link span {\n",
       "  display: none;\n",
       "  z-index: 9999;\n",
       "  position: relative;\n",
       "  font-weight: normal;\n",
       "  right: .2ex;\n",
       "  padding: .5ex;\n",
       "  margin: .5ex;\n",
       "  width: min-content;\n",
       "  min-width: 20ex;\n",
       "  max-width: 50ex;\n",
       "  color: var(--sklearn-color-text);\n",
       "  box-shadow: 2pt 2pt 4pt #999;\n",
       "  /* unfitted */\n",
       "  background: var(--sklearn-color-unfitted-level-0);\n",
       "  border: .5pt solid var(--sklearn-color-unfitted-level-3);\n",
       "}\n",
       "\n",
       ".sk-estimator-doc-link.fitted span {\n",
       "  /* fitted */\n",
       "  background: var(--sklearn-color-fitted-level-0);\n",
       "  border: var(--sklearn-color-fitted-level-3);\n",
       "}\n",
       "\n",
       ".sk-estimator-doc-link:hover span {\n",
       "  display: block;\n",
       "}\n",
       "\n",
       "/* \"?\"-specific style due to the `<a>` HTML tag */\n",
       "\n",
       "#sk-container-id-1 a.estimator_doc_link {\n",
       "  float: right;\n",
       "  font-size: 1rem;\n",
       "  line-height: 1em;\n",
       "  font-family: monospace;\n",
       "  background-color: var(--sklearn-color-background);\n",
       "  border-radius: 1rem;\n",
       "  height: 1rem;\n",
       "  width: 1rem;\n",
       "  text-decoration: none;\n",
       "  /* unfitted */\n",
       "  color: var(--sklearn-color-unfitted-level-1);\n",
       "  border: var(--sklearn-color-unfitted-level-1) 1pt solid;\n",
       "}\n",
       "\n",
       "#sk-container-id-1 a.estimator_doc_link.fitted {\n",
       "  /* fitted */\n",
       "  border: var(--sklearn-color-fitted-level-1) 1pt solid;\n",
       "  color: var(--sklearn-color-fitted-level-1);\n",
       "}\n",
       "\n",
       "/* On hover */\n",
       "#sk-container-id-1 a.estimator_doc_link:hover {\n",
       "  /* unfitted */\n",
       "  background-color: var(--sklearn-color-unfitted-level-3);\n",
       "  color: var(--sklearn-color-background);\n",
       "  text-decoration: none;\n",
       "}\n",
       "\n",
       "#sk-container-id-1 a.estimator_doc_link.fitted:hover {\n",
       "  /* fitted */\n",
       "  background-color: var(--sklearn-color-fitted-level-3);\n",
       "}\n",
       "</style><div id=\"sk-container-id-1\" class=\"sk-top-container\"><div class=\"sk-text-repr-fallback\"><pre>XGBClassifier(alpha=10, base_score=None, booster=None, callbacks=None,\n",
       "              colsample_bylevel=None, colsample_bynode=None,\n",
       "              colsample_bytree=0.8, device=None, early_stopping_rounds=None,\n",
       "              enable_categorical=False, eta=0.1, eval_metric=None,\n",
       "              feature_types=None, gamma=None, grow_policy=None,\n",
       "              importance_type=None, interaction_constraints=None, lambda=10,\n",
       "              learning_rate=None, max_bin=None, max_cat_threshold=None,\n",
       "              max_cat_to_onehot=None, max_delta_step=None, max_depth=3,\n",
       "              max_leaves=None, min_child_weight=5, missing=nan,\n",
       "              monotone_constraints=None, multi_strategy=None, n_estimators=None, ...)</pre><b>In a Jupyter environment, please rerun this cell to show the HTML representation or trust the notebook. <br />On GitHub, the HTML representation is unable to render, please try loading this page with nbviewer.org.</b></div><div class=\"sk-container\" hidden><div class=\"sk-item\"><div class=\"sk-estimator fitted sk-toggleable\"><input class=\"sk-toggleable__control sk-hidden--visually\" id=\"sk-estimator-id-1\" type=\"checkbox\" checked><label for=\"sk-estimator-id-1\" class=\"sk-toggleable__label fitted sk-toggleable__label-arrow fitted\">&nbsp;XGBClassifier<span class=\"sk-estimator-doc-link fitted\">i<span>Fitted</span></span></label><div class=\"sk-toggleable__content fitted\"><pre>XGBClassifier(alpha=10, base_score=None, booster=None, callbacks=None,\n",
       "              colsample_bylevel=None, colsample_bynode=None,\n",
       "              colsample_bytree=0.8, device=None, early_stopping_rounds=None,\n",
       "              enable_categorical=False, eta=0.1, eval_metric=None,\n",
       "              feature_types=None, gamma=None, grow_policy=None,\n",
       "              importance_type=None, interaction_constraints=None, lambda=10,\n",
       "              learning_rate=None, max_bin=None, max_cat_threshold=None,\n",
       "              max_cat_to_onehot=None, max_delta_step=None, max_depth=3,\n",
       "              max_leaves=None, min_child_weight=5, missing=nan,\n",
       "              monotone_constraints=None, multi_strategy=None, n_estimators=None, ...)</pre></div> </div></div></div></div>"
      ],
      "text/plain": [
       "XGBClassifier(alpha=10, base_score=None, booster=None, callbacks=None,\n",
       "              colsample_bylevel=None, colsample_bynode=None,\n",
       "              colsample_bytree=0.8, device=None, early_stopping_rounds=None,\n",
       "              enable_categorical=False, eta=0.1, eval_metric=None,\n",
       "              feature_types=None, gamma=None, grow_policy=None,\n",
       "              importance_type=None, interaction_constraints=None, lambda=10,\n",
       "              learning_rate=None, max_bin=None, max_cat_threshold=None,\n",
       "              max_cat_to_onehot=None, max_delta_step=None, max_depth=3,\n",
       "              max_leaves=None, min_child_weight=5, missing=nan,\n",
       "              monotone_constraints=None, multi_strategy=None, n_estimators=None, ...)"
      ]
     },
     "execution_count": 23,
     "metadata": {},
     "output_type": "execute_result"
    }
   ],
   "source": [
    "# Train the model \n",
    "model.fit(X_train, y_train, eval_set=[(X_eval, y_eval)], verbose=True)\n",
    "\n"
   ]
  },
  {
   "cell_type": "markdown",
   "id": "412b4f01-9d44-4a40-b1ad-8ffd216800d9",
   "metadata": {},
   "source": [
    "## Save cleaner, preprocessor and model objects"
   ]
  },
  {
   "cell_type": "code",
   "execution_count": 24,
   "id": "196bcef3-bb80-45e1-989c-5a7e102b61f6",
   "metadata": {
    "tags": []
   },
   "outputs": [],
   "source": [
    "# Save the model to a file \n",
    "\n",
    "model.save_model('xgb_model.json') \n",
    "    \n",
    "# Save data preprocessor class\n",
    "with open('xgb_data_preproc.pkl', 'wb') as handle:\n",
    "    pickle.dump(data_preproc, handle)\n",
    "    \n",
    "# Save data preprocessor class\n",
    "with open('xgb_data_cleaner.pkl', 'wb') as handle:\n",
    "    pickle.dump(data_cleaner, handle)"
   ]
  },
  {
   "cell_type": "markdown",
   "id": "ffa5053f-1373-4c14-bc52-8fac80f35e64",
   "metadata": {},
   "source": [
    "# Test Model"
   ]
  },
  {
   "cell_type": "markdown",
   "id": "17ea23eb-061d-40ce-9e70-2d8c12083077",
   "metadata": {},
   "source": [
    "## Preprocess test data\n",
    "\n",
    "Apply the same data cleaning and preprocessing as was applied to the training dataset"
   ]
  },
  {
   "cell_type": "code",
   "execution_count": 25,
   "id": "986344ac-68e5-480c-af8a-a7ba14a2e16f",
   "metadata": {
    "tags": []
   },
   "outputs": [],
   "source": [
    "# Apply data cleaner methods\n",
    "\n",
    "test_df = data_cleaner.select_features(X_test).copy()"
   ]
  },
  {
   "cell_type": "code",
   "execution_count": 26,
   "id": "25c70f1c-3cea-4f8b-a336-d60d799c4b76",
   "metadata": {
    "tags": []
   },
   "outputs": [],
   "source": [
    "NUMERICAL   = test_df.select_dtypes(include=[np.number]).columns.tolist()\n",
    "CATEGORICAL = test_df.select_dtypes(exclude=[np.number]).columns.tolist()\n",
    "\n",
    "for x in NUMERICAL:\n",
    "    test_df[x] = test_df[x].astype(float).fillna(np.nan)\n"
   ]
  },
  {
   "cell_type": "code",
   "execution_count": 27,
   "id": "8aa44bb3-170d-42fc-8b29-b12a7d954c9f",
   "metadata": {
    "tags": []
   },
   "outputs": [
    {
     "name": "stdout",
     "output_type": "stream",
     "text": [
      "diff1 =  set()\n",
      "diff2 =  set()\n"
     ]
    }
   ],
   "source": [
    "# Apply preprocessor (minmax scaler + one_hot_encode)\n",
    "test_df   = data_preproc.apply_scaler(test_df)    \n",
    "X_test    = data_preproc.one_hot_encode(test_df)"
   ]
  },
  {
   "cell_type": "markdown",
   "id": "7d93a4d4-f4b3-4745-9127-8cd359d83f2b",
   "metadata": {},
   "source": [
    "## Evaluate model"
   ]
  },
  {
   "cell_type": "code",
   "execution_count": 28,
   "id": "039c1b60-6b53-481c-9c90-b94b57e806c8",
   "metadata": {
    "tags": []
   },
   "outputs": [
    {
     "name": "stdout",
     "output_type": "stream",
     "text": [
      "0.8454203347054051\n"
     ]
    }
   ],
   "source": [
    "pred_test = model.predict_proba(X_test)[:, 1]\n",
    "\n",
    "roc_auc = roc_auc_score(y_test, pred_test)\n",
    "#pr_auc  = average_precision_score(y_test, pred_test)\n",
    "print(roc_auc)\n",
    "#print(pr_auc)"
   ]
  },
  {
   "cell_type": "markdown",
   "id": "e8f30fab-ced3-44fc-83e9-b62f1dd151de",
   "metadata": {},
   "source": [
    "## Model performance"
   ]
  },
  {
   "cell_type": "code",
   "execution_count": 29,
   "id": "585811cd-da0c-47df-a299-1a4ecfe83533",
   "metadata": {},
   "outputs": [],
   "source": [
    "def compute_lift_chart(target_values, scores, cumulative=True, normalize=True, num_bins=10):\n",
    "    '''\n",
    "    Compute the lift chart arrays. Parameters:\n",
    "     * cumulative: Define if Lift is calculated for the top X% or Lift on the n-tile\n",
    "     * normalize: Obtain values referenced to the overall rate\n",
    "     * num_bins: n-tiles to be used for the computation\n",
    "    '''\n",
    "    \n",
    "    pchurn    = pd.DataFrame({'Observed': target_values, 'p_churn': scores})\n",
    "    sorted_df = pchurn.sort_values(by=['p_churn'], ascending=False)\n",
    "    \n",
    "    x           = np.zeros(num_bins)\n",
    "    lift_chart  = np.zeros(num_bins)\n",
    "    baseline    = np.zeros(num_bins)  \n",
    "    \n",
    "    tile_size      = int(np.ceil(sorted_df.shape[0]/num_bins))\n",
    "    overall_ratio  = 100*sorted_df.Observed.mean()\n",
    "    \n",
    "    for i in range(0,num_bins):\n",
    "        x[i]        = (i+1)*tile_size/sorted_df.shape[0]*100\n",
    "        baseline[i] = overall_ratio\n",
    "        if cumulative: \n",
    "            lift_chart[i] = 100*sorted_df.Observed.iloc[:(i+1)*tile_size].mean() \n",
    "        else:\n",
    "            lift_chart[i] = 100*sorted_df.Observed.iloc[i*tile_size:(i+1)*tile_size].mean()\n",
    "        \n",
    "        if normalize:\n",
    "            lift_chart[i] = lift_chart[i] / overall_ratio \n",
    "            baseline[i]   = 1.0\n",
    "    \n",
    "    return (x, baseline, lift_chart)\n"
   ]
  },
  {
   "cell_type": "code",
   "execution_count": 30,
   "id": "fb67349c-6427-43c0-9b07-714211046534",
   "metadata": {
    "tags": []
   },
   "outputs": [],
   "source": [
    "y_test_prob  = model.predict_proba(X_test)[:,1]\n",
    "y_train_prob = model.predict_proba(X_train)[:,1]"
   ]
  },
  {
   "cell_type": "code",
   "execution_count": 31,
   "id": "ad20b9a3-30af-4793-8d98-07eb58092dbf",
   "metadata": {
    "tags": []
   },
   "outputs": [
    {
     "name": "stdout",
     "output_type": "stream",
     "text": [
      "No Skill:       ROC AUC=0.500\n",
      "XG Boost Train: ROC AUC=0.883\n",
      "XG Boost Test : ROC AUC=0.845\n"
     ]
    }
   ],
   "source": [
    "# generate a no skill prediction\n",
    "ns_probs = [0 for _ in range(len(y_test))]\n",
    "\n",
    "# calculate scores\n",
    "no_skill_auc  = roc_auc_score(y_test, ns_probs)\n",
    "xgb_train_auc = roc_auc_score(y_train, y_train_prob)\n",
    "xgb_test_auc  = roc_auc_score(y_test, y_test_prob)\n",
    "\n",
    "# summarize scores\n",
    "print('No Skill:       ROC AUC=%.3f' % (no_skill_auc))\n",
    "print('XG Boost Train: ROC AUC=%.3f' % (xgb_train_auc))\n",
    "print('XG Boost Test : ROC AUC=%.3f' % (xgb_test_auc))"
   ]
  },
  {
   "cell_type": "code",
   "execution_count": 32,
   "id": "ea532607-143d-4f18-b97c-f1251214023d",
   "metadata": {
    "tags": []
   },
   "outputs": [
    {
     "data": {
      "image/png": "[encoded data removed]",
      "text/plain": [
       "<Figure size 640x480 with 1 Axes>"
      ]
     },
     "metadata": {},
     "output_type": "display_data"
    }
   ],
   "source": [
    "# calculate roc curve\n",
    "ns_fpr, ns_tpr, _ = roc_curve(y_test, ns_probs)\n",
    "fpr_test, tpr_test, thresholds = roc_curve(y_test, y_test_prob)\n",
    "fpr_train, tpr_train, thresholds = roc_curve(y_train, y_train_prob)\n",
    "\n",
    "# plot the roc curve for the model\n",
    "plt.plot(ns_fpr, ns_tpr, linestyle='--')\n",
    "plt.plot(fpr_train, tpr_train, linestyle='-', color = 'green', label=('Train AUROC: %0.2f' % xgb_train_auc))\n",
    "plt.plot(fpr_test, tpr_test, linestyle='-', color = 'red', label=('Test AUROC: %0.2f' % xgb_test_auc) )\n",
    "\n",
    "plt.title('ROC Curve')\n",
    "plt.xlabel('FPR')\n",
    "plt.ylabel('TPR')\n",
    "plt.legend()\n",
    "\n",
    "#plt.savefig('Figures/XGBoost_ROC_AUC_curve.eps', format='eps', bbox_inches='tight')\n",
    "plt.show()"
   ]
  },
  {
   "cell_type": "code",
   "execution_count": 33,
   "id": "ad7234a2-4de3-4f2b-97b2-8fec71dfc74b",
   "metadata": {
    "tags": []
   },
   "outputs": [
    {
     "data": {
      "image/png": "[encoded data removed]",
      "text/plain": [
       "<Figure size 700x500 with 1 Axes>"
      ]
     },
     "metadata": {},
     "output_type": "display_data"
    }
   ],
   "source": [
    "x, _, lift_test  = compute_lift_chart( y_test, y_test_prob, normalize=True )\n",
    "x_train, _train, lift_train  = compute_lift_chart( y_train, y_train_prob, normalize=True  )\n",
    "\n",
    "plt.rcParams[\"figure.figsize\"] = (7, 5)\n",
    "\n",
    "plt.plot(x, lift_train, label='Train, 1st decile= %.2f' % lift_train[0], color='green')\n",
    "plt.plot(x, lift_test, label='Test, 1st decile= %.2f' % lift_test[0], color = 'red')\n",
    "\n",
    "plt.plot([10,100],[1,1],'r--')\n",
    "plt.xlabel('Cumulative population (%) ranked by p(success)')\n",
    "plt.xticks(np.arange(10,110,10))\n",
    "plt.ylabel('Lift')\n",
    "plt.title('Lift Chart')\n",
    "plt.legend(loc=1)\n",
    "plt.tight_layout()\n",
    "#plt.savefig('Figures/XGBoost_model_lift_chart.eps', format='eps', bbox_inches='tight')\n",
    "plt.show()"
   ]
  },
  {
   "cell_type": "markdown",
   "id": "05306f20-b419-4465-ac12-2aaab8b82ad9",
   "metadata": {},
   "source": [
    "# Cross validation"
   ]
  },
  {
   "cell_type": "code",
   "execution_count": 34,
   "id": "71d6440d-32d6-4722-9e13-262b8caaf500",
   "metadata": {
    "tags": []
   },
   "outputs": [],
   "source": [
    "from sklearn.model_selection import cross_val_score"
   ]
  },
  {
   "cell_type": "code",
   "execution_count": 35,
   "id": "dadda024-365e-412f-a798-932736a4e79a",
   "metadata": {
    "tags": []
   },
   "outputs": [],
   "source": [
    "X_dummy = pd.concat([X_train, X_eval, X_test])\n",
    "\n",
    "y_dummy = pd.concat([y_train, y_eval, y_test])"
   ]
  },
  {
   "cell_type": "code",
   "execution_count": 36,
   "id": "b9d0c0b5-b3db-4229-ae33-5d05d55c12ed",
   "metadata": {
    "tags": []
   },
   "outputs": [
    {
     "name": "stdout",
     "output_type": "stream",
     "text": [
      "Cross-validation scores: [0.90112994 0.8960452  0.8982476  0.90050876 0.90050876]\n",
      "Mean cross-validation score: 0.8992880525561061\n"
     ]
    }
   ],
   "source": [
    "\n",
    "# Perform 5-fold cross-validation\n",
    "cv_scores = cross_val_score(model, X_dummy, y_dummy, cv=5, scoring='accuracy')\n",
    "\n",
    "# Print the cross-validation scores\n",
    "print(\"Cross-validation scores:\", cv_scores)\n",
    "print(\"Mean cross-validation score:\", cv_scores.mean())"
   ]
  },
  {
   "cell_type": "markdown",
   "id": "78d6687b-c624-4b75-90eb-5f8e03680b40",
   "metadata": {},
   "source": [
    "# Feature Importance"
   ]
  },
  {
   "cell_type": "code",
   "execution_count": 37,
   "id": "cd58ce61-cd80-40c1-b71d-0e68852d6e4f",
   "metadata": {
    "tags": []
   },
   "outputs": [
    {
     "data": {
      "image/png": "[encoded data removed]",
      "text/plain": [
       "<Figure size 500x500 with 1 Axes>"
      ]
     },
     "metadata": {},
     "output_type": "display_data"
    }
   ],
   "source": [
    "# Feature importance plot\n",
    "\n",
    "plt.rcParams[\"figure.figsize\"] = (5, 5)\n",
    "xgb.plot_importance(booster=model, max_num_features =112, importance_type='gain', show_values=False)\n",
    "#plt.savefig('Figures/full_model_Feature_importance.eps', format='eps', bbox_inches='tight')\n",
    "plt.show()"
   ]
  },
  {
   "cell_type": "markdown",
   "id": "8aca29e4-88e5-4890-980c-a6ab0d697c35",
   "metadata": {},
   "source": [
    "## Shaps"
   ]
  },
  {
   "cell_type": "code",
   "execution_count": 38,
   "id": "151e5dbe-f32d-45d6-99e0-96dde690144a",
   "metadata": {
    "tags": []
   },
   "outputs": [],
   "source": [
    "import shap\n",
    "import matplotlib.colors as clr \n",
    "from matplotlib import cm"
   ]
  },
  {
   "cell_type": "code",
   "execution_count": 39,
   "id": "8f47da2f-30bc-4252-b53d-0d372e4a057a",
   "metadata": {
    "tags": []
   },
   "outputs": [],
   "source": [
    "shap_values = shap.TreeExplainer(model).shap_values(X_test)"
   ]
  },
  {
   "cell_type": "code",
   "execution_count": 40,
   "id": "53e386b5-0635-4d6e-b490-0514d1dde35e",
   "metadata": {},
   "outputs": [],
   "source": [
    "def shap_values_sign(df_shap, df, N=20, sign='binary'):\n",
    "    '''\n",
    "    Obtain correlation between shap values and features to assign a global, \n",
    "    average correlation sign to every feature. Plot the top N features ranked \n",
    "    by average shap value (feature importance) with the computed sign \n",
    "    \n",
    "    df_shap: matrix containing shapley values \n",
    "    df     : dataframe that was used to compute the Shapley values\n",
    "    N      : number of features to plot\n",
    "    sign   : assign a color to the bars, +/- if 'binary' or range of colours if 'colormap' for corr strength\n",
    "    \n",
    "    return : List of the top N variables by overall importance \n",
    "    '''\n",
    "    \n",
    "    # Make a copy of the input data    \n",
    "    shap_v = pd.DataFrame(df_shap)\n",
    "    feature_list = df.columns\n",
    "    shap_v.columns = feature_list\n",
    "    df_v = df.copy().reset_index().drop('index',axis=1)\n",
    "    \n",
    "    # Determine the correlation in order to plot with different colors\n",
    "    corr_list = list()\n",
    "    for i in feature_list:\n",
    "        b = pd.DataFrame( {'shap_v': shap_v[i].values, 'x':df_v[i].values} ).corr().values[1][0]\n",
    "        # b = np.corrcoef(shap_v[i],df_v[i])[1][0]\n",
    "        corr_list.append(b)\n",
    "    corr_df = pd.concat([pd.Series(feature_list),pd.Series(corr_list)],axis=1).fillna(0)\n",
    "    \n",
    "    # Make a data frame. Column 1 is the feature, and Column 2 is the correlation coefficient\n",
    "    corr_df.columns  = ['Variable','Corr']\n",
    "    \n",
    "    # Sign of the correlations\n",
    "    corr_df['Sign'] = np.where(corr_df['Corr']>0, 'orangered', 'royalblue' )\n",
    "\n",
    "    # Plot\n",
    "    shap_abs = np.abs(shap_v)\n",
    "    k=pd.DataFrame(shap_abs.mean()).reset_index()\n",
    "    k.columns = ['Variable','SHAP_abs']\n",
    "    k2 = k.merge(corr_df,left_on = 'Variable',right_on='Variable',how='inner')\n",
    "    k2 = k2.sort_values(by='SHAP_abs',ascending = True).tail(N)\n",
    "    \n",
    "    if sign=='binary':\n",
    "        color = k2['Sign']\n",
    "    elif sign=='colormap':\n",
    "        norm = clr.Normalize(vmin=-1.0, vmax=1.0)\n",
    "        color = cm.bwr(np.array( norm(k2['Corr'].values) ) )\n",
    "    else: \n",
    "        assert False, 'Bar sign expected to be one of: \"binary\", \"colormap\" '\n",
    "        \n",
    "    ax = k2.plot.barh(x='Variable',y='SHAP_abs', color = color, figsize=(8, 0.5*N), legend=False )\n",
    "    ax.set_xlabel(\"mean|SHAP values|: average impact on model output magnitude\")\n",
    "    ax.set_ylabel(None)\n",
    "    \n",
    "    if sign=='colormap':\n",
    "        sm = plt.cm.ScalarMappable(cmap=cm.bwr, norm=norm)\n",
    "        cbar = plt.colorbar(sm)\n",
    "        cbar.set_label('Correlation shap/feature')\n",
    "    \n",
    "    return k2['Variable'].tail(N).tolist()"
   ]
  },
  {
   "cell_type": "code",
   "execution_count": 41,
   "id": "8a5da412-e16a-4a5a-9678-31a24f6bec85",
   "metadata": {},
   "outputs": [
    {
     "ename": "ValueError",
     "evalue": "Unable to determine Axes to steal space for Colorbar. Either provide the *cax* argument to use as the Axes for the Colorbar, provide the *ax* argument to steal space from it, or add *mappable* to an Axes.",
     "output_type": "error",
     "traceback": [
      "\u001b[0;31m---------------------------------------------------------------------------\u001b[0m",
      "\u001b[0;31mValueError\u001b[0m                                Traceback (most recent call last)",
      "Cell \u001b[0;32mIn[41], line 1\u001b[0m\n\u001b[0;32m----> 1\u001b[0m \u001b[43mshap_values_sign\u001b[49m\u001b[43m(\u001b[49m\u001b[43mshap_values\u001b[49m\u001b[43m,\u001b[49m\u001b[43m \u001b[49m\u001b[43mX_test\u001b[49m\u001b[43m,\u001b[49m\u001b[43m \u001b[49m\u001b[38;5;241;43m20\u001b[39;49m\u001b[43m,\u001b[49m\u001b[43m \u001b[49m\u001b[43msign\u001b[49m\u001b[38;5;241;43m=\u001b[39;49m\u001b[38;5;124;43m'\u001b[39;49m\u001b[38;5;124;43mcolormap\u001b[39;49m\u001b[38;5;124;43m'\u001b[39;49m\u001b[43m)\u001b[49m\n",
      "Cell \u001b[0;32mIn[40], line 56\u001b[0m, in \u001b[0;36mshap_values_sign\u001b[0;34m(df_shap, df, N, sign)\u001b[0m\n\u001b[1;32m     54\u001b[0m \u001b[38;5;28;01mif\u001b[39;00m sign\u001b[38;5;241m==\u001b[39m\u001b[38;5;124m'\u001b[39m\u001b[38;5;124mcolormap\u001b[39m\u001b[38;5;124m'\u001b[39m:\n\u001b[1;32m     55\u001b[0m     sm \u001b[38;5;241m=\u001b[39m plt\u001b[38;5;241m.\u001b[39mcm\u001b[38;5;241m.\u001b[39mScalarMappable(cmap\u001b[38;5;241m=\u001b[39mcm\u001b[38;5;241m.\u001b[39mbwr, norm\u001b[38;5;241m=\u001b[39mnorm)\n\u001b[0;32m---> 56\u001b[0m     cbar \u001b[38;5;241m=\u001b[39m \u001b[43mplt\u001b[49m\u001b[38;5;241;43m.\u001b[39;49m\u001b[43mcolorbar\u001b[49m\u001b[43m(\u001b[49m\u001b[43msm\u001b[49m\u001b[43m)\u001b[49m\n\u001b[1;32m     57\u001b[0m     cbar\u001b[38;5;241m.\u001b[39mset_label(\u001b[38;5;124m'\u001b[39m\u001b[38;5;124mCorrelation shap/feature\u001b[39m\u001b[38;5;124m'\u001b[39m)\n\u001b[1;32m     59\u001b[0m \u001b[38;5;28;01mreturn\u001b[39;00m k2[\u001b[38;5;124m'\u001b[39m\u001b[38;5;124mVariable\u001b[39m\u001b[38;5;124m'\u001b[39m]\u001b[38;5;241m.\u001b[39mtail(N)\u001b[38;5;241m.\u001b[39mtolist()\n",
      "File \u001b[0;32m/opt/conda/envs/shap_env/lib/python3.9/site-packages/matplotlib/pyplot.py:2516\u001b[0m, in \u001b[0;36mcolorbar\u001b[0;34m(mappable, cax, ax, **kwargs)\u001b[0m\n\u001b[1;32m   2511\u001b[0m     \u001b[38;5;28;01mif\u001b[39;00m mappable \u001b[38;5;129;01mis\u001b[39;00m \u001b[38;5;28;01mNone\u001b[39;00m:\n\u001b[1;32m   2512\u001b[0m         \u001b[38;5;28;01mraise\u001b[39;00m \u001b[38;5;167;01mRuntimeError\u001b[39;00m(\u001b[38;5;124m'\u001b[39m\u001b[38;5;124mNo mappable was found to use for colorbar \u001b[39m\u001b[38;5;124m'\u001b[39m\n\u001b[1;32m   2513\u001b[0m                            \u001b[38;5;124m'\u001b[39m\u001b[38;5;124mcreation. First define a mappable such as \u001b[39m\u001b[38;5;124m'\u001b[39m\n\u001b[1;32m   2514\u001b[0m                            \u001b[38;5;124m'\u001b[39m\u001b[38;5;124man image (with imshow) or a contour set (\u001b[39m\u001b[38;5;124m'\u001b[39m\n\u001b[1;32m   2515\u001b[0m                            \u001b[38;5;124m'\u001b[39m\u001b[38;5;124mwith contourf).\u001b[39m\u001b[38;5;124m'\u001b[39m)\n\u001b[0;32m-> 2516\u001b[0m ret \u001b[38;5;241m=\u001b[39m \u001b[43mgcf\u001b[49m\u001b[43m(\u001b[49m\u001b[43m)\u001b[49m\u001b[38;5;241;43m.\u001b[39;49m\u001b[43mcolorbar\u001b[49m\u001b[43m(\u001b[49m\u001b[43mmappable\u001b[49m\u001b[43m,\u001b[49m\u001b[43m \u001b[49m\u001b[43mcax\u001b[49m\u001b[38;5;241;43m=\u001b[39;49m\u001b[43mcax\u001b[49m\u001b[43m,\u001b[49m\u001b[43m \u001b[49m\u001b[43max\u001b[49m\u001b[38;5;241;43m=\u001b[39;49m\u001b[43max\u001b[49m\u001b[43m,\u001b[49m\u001b[43m \u001b[49m\u001b[38;5;241;43m*\u001b[39;49m\u001b[38;5;241;43m*\u001b[39;49m\u001b[43mkwargs\u001b[49m\u001b[43m)\u001b[49m\n\u001b[1;32m   2517\u001b[0m \u001b[38;5;28;01mreturn\u001b[39;00m ret\n",
      "File \u001b[0;32m/opt/conda/envs/shap_env/lib/python3.9/site-packages/matplotlib/figure.py:1215\u001b[0m, in \u001b[0;36mFigureBase.colorbar\u001b[0;34m(self, mappable, cax, ax, use_gridspec, **kwargs)\u001b[0m\n\u001b[1;32m   1213\u001b[0m \u001b[38;5;28;01mif\u001b[39;00m cax \u001b[38;5;129;01mis\u001b[39;00m \u001b[38;5;28;01mNone\u001b[39;00m:\n\u001b[1;32m   1214\u001b[0m     \u001b[38;5;28;01mif\u001b[39;00m ax \u001b[38;5;129;01mis\u001b[39;00m \u001b[38;5;28;01mNone\u001b[39;00m:\n\u001b[0;32m-> 1215\u001b[0m         \u001b[38;5;28;01mraise\u001b[39;00m \u001b[38;5;167;01mValueError\u001b[39;00m(\n\u001b[1;32m   1216\u001b[0m             \u001b[38;5;124m'\u001b[39m\u001b[38;5;124mUnable to determine Axes to steal space for Colorbar. \u001b[39m\u001b[38;5;124m'\u001b[39m\n\u001b[1;32m   1217\u001b[0m             \u001b[38;5;124m'\u001b[39m\u001b[38;5;124mEither provide the *cax* argument to use as the Axes for \u001b[39m\u001b[38;5;124m'\u001b[39m\n\u001b[1;32m   1218\u001b[0m             \u001b[38;5;124m'\u001b[39m\u001b[38;5;124mthe Colorbar, provide the *ax* argument to steal space \u001b[39m\u001b[38;5;124m'\u001b[39m\n\u001b[1;32m   1219\u001b[0m             \u001b[38;5;124m'\u001b[39m\u001b[38;5;124mfrom it, or add *mappable* to an Axes.\u001b[39m\u001b[38;5;124m'\u001b[39m)\n\u001b[1;32m   1220\u001b[0m     fig \u001b[38;5;241m=\u001b[39m (  \u001b[38;5;66;03m# Figure of first Axes; logic copied from make_axes.\u001b[39;00m\n\u001b[1;32m   1221\u001b[0m         [\u001b[38;5;241m*\u001b[39max\u001b[38;5;241m.\u001b[39mflat] \u001b[38;5;28;01mif\u001b[39;00m \u001b[38;5;28misinstance\u001b[39m(ax, np\u001b[38;5;241m.\u001b[39mndarray)\n\u001b[1;32m   1222\u001b[0m         \u001b[38;5;28;01melse\u001b[39;00m [\u001b[38;5;241m*\u001b[39max] \u001b[38;5;28;01mif\u001b[39;00m np\u001b[38;5;241m.\u001b[39miterable(ax)\n\u001b[1;32m   1223\u001b[0m         \u001b[38;5;28;01melse\u001b[39;00m [ax])[\u001b[38;5;241m0\u001b[39m]\u001b[38;5;241m.\u001b[39mfigure\n\u001b[1;32m   1224\u001b[0m     current_ax \u001b[38;5;241m=\u001b[39m fig\u001b[38;5;241m.\u001b[39mgca()\n",
      "\u001b[0;31mValueError\u001b[0m: Unable to determine Axes to steal space for Colorbar. Either provide the *cax* argument to use as the Axes for the Colorbar, provide the *ax* argument to steal space from it, or add *mappable* to an Axes."
     ]
    },
    {
     "data": {
      "image/png": "[encoded data removed]",
      "text/plain": [
       "<Figure size 800x1000 with 1 Axes>"
      ]
     },
     "metadata": {},
     "output_type": "display_data"
    }
   ],
   "source": [
    "shap_values_sign(shap_values, X_test, 20, sign='colormap')"
   ]
  },
  {
   "cell_type": "code",
   "execution_count": null,
   "id": "c014389b-ecb3-483b-b14a-d69e6723af6b",
   "metadata": {},
   "outputs": [],
   "source": []
  }
 ],
 "metadata": {
  "environment": {
   "kernel": "shap_env",
   "name": "tf2-gpu.2-6.m120",
   "type": "gcloud",
   "uri": "us-docker.pkg.dev/deeplearning-platform-release/gcr.io/tf2-gpu.2-6:m120"
  },
  "kernelspec": {
   "display_name": "Python (shap_env) (Local)",
   "language": "python",
   "name": "shap_env"
  },
  "language_info": {
   "codemirror_mode": {
    "name": "ipython",
    "version": 3
   },
   "file_extension": ".py",
   "mimetype": "text/x-python",
   "name": "python",
   "nbconvert_exporter": "python",
   "pygments_lexer": "ipython3",
   "version": "3.9.20"
  }
 },
 "nbformat": 4,
 "nbformat_minor": 5
}
