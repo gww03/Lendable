{
 "cells": [
  {
   "cell_type": "code",
   "execution_count": 34,
   "id": "15b3acc8-846d-4f62-9bd1-a7caefa8bb44",
   "metadata": {
    "tags": []
   },
   "outputs": [],
   "source": [
    "import association_metrics as am\n",
    "\n",
    "import matplotlib.pyplot as plt\n",
    "\n",
    "import pandas as pd\n",
    "\n",
    "import scipy.stats as scs\n",
    "\n",
    "import seaborn as sns"
   ]
  },
  {
   "cell_type": "code",
   "execution_count": 35,
   "id": "776acee2-a37e-499c-85c1-e8b12e22c31a",
   "metadata": {
    "tags": []
   },
   "outputs": [
    {
     "ename": "SyntaxError",
     "evalue": "invalid syntax (4054448178.py, line 1)",
     "output_type": "error",
     "traceback": [
      "\u001b[0;36m  Cell \u001b[0;32mIn[35], line 1\u001b[0;36m\u001b[0m\n\u001b[0;31m    ToDo:\u001b[0m\n\u001b[0m         ^\u001b[0m\n\u001b[0;31mSyntaxError\u001b[0m\u001b[0;31m:\u001b[0m invalid syntax\n"
     ]
    }
   ],
   "source": [
    "ToDo:\n",
    "    \n",
    "    - check fuzzy ting actually does anything\n",
    "    - save data post changing of fuzzywuzzy, need to save this transformation for production\n",
    "    - save dataset for training\n",
    "    - head to training, check what that has done\n",
    "    - include new data"
   ]
  },
  {
   "cell_type": "markdown",
   "id": "406205ce-5958-4d16-8bfc-104b00272ed1",
   "metadata": {
    "tags": []
   },
   "source": [
    "## Functions"
   ]
  },
  {
   "cell_type": "code",
   "execution_count": 36,
   "id": "1837abcb-6d88-4055-8578-fd66c4678f77",
   "metadata": {
    "tags": []
   },
   "outputs": [],
   "source": [
    "def detect_outliers_iqr(df: pd.DataFrame, column: str):\n",
    "    \"\"\"\n",
    "    Detects outliers in a specific column of a DataFrame using the IQR method.\n",
    "    \n",
    "    Parameters:\n",
    "    df (pd.DataFrame): The input DataFrame.\n",
    "    column (str): The column name for which to detect outliers.\n",
    "    \n",
    "    Returns:\n",
    "    dict: A dictionary containing the number of outliers and the outlier values.\n",
    "    \"\"\"\n",
    "    # Calculate Q1 (25th percentile) and Q3 (75th percentile)\n",
    "    Q1 = df[column].quantile(0.25)\n",
    "    Q3 = df[column].quantile(0.75)\n",
    "    \n",
    "    # Compute the IQR\n",
    "    IQR = Q3 - Q1\n",
    "    \n",
    "    # Define the outlier boundaries\n",
    "    lower_bound = Q1 - 1.5 * IQR\n",
    "    upper_bound = Q3 + 1.5 * IQR\n",
    "    \n",
    "    # Identify outliers\n",
    "    outliers = df[(df[column] < lower_bound) | (df[column] > upper_bound)][column]\n",
    "    \n",
    "    # Return the number of outliers and the actual outlier values\n",
    "    result = {\n",
    "        'number_of_outliers': outliers.shape[0],\n",
    "        'outliers': outliers\n",
    "    }\n",
    "    \n",
    "    return result\n"
   ]
  },
  {
   "cell_type": "code",
   "execution_count": 37,
   "id": "08ffc735-5e63-4fa0-8a16-9d9d0535ded8",
   "metadata": {
    "tags": []
   },
   "outputs": [],
   "source": [
    "import pandas as pd\n",
    "\n",
    "def check_nulls(df: pd.DataFrame, column: str):\n",
    "    \"\"\"\n",
    "    Checks for NULL (NaN) values in a specific column of a DataFrame.\n",
    "    \n",
    "    Parameters:\n",
    "    df (pd.DataFrame): The input DataFrame.\n",
    "    column (str): The column name for which to check for NULL values.\n",
    "    \n",
    "    Returns:\n",
    "    dict: A dictionary containing the number of NULL values and their row indices and values.\n",
    "    \"\"\"\n",
    "    # Identify NULL values in the column\n",
    "    null_values = df[df[column].isnull()][column]\n",
    "    \n",
    "    # Return the number of NULL values, their indices, and values (which will be NaN)\n",
    "    result = {\n",
    "        'number_of_nulls': null_values.shape[0],\n",
    "        'null_indices': null_values.index.tolist(),\n",
    "        'null_values': null_values\n",
    "    }\n",
    "    \n",
    "    return result"
   ]
  },
  {
   "cell_type": "markdown",
   "id": "810c02a1-6e34-48cd-a242-0d378271b4fc",
   "metadata": {},
   "source": [
    "## Import Data"
   ]
  },
  {
   "cell_type": "code",
   "execution_count": 4,
   "id": "45fc4b1b-3fc5-419b-bf24-b7585a5e4ef7",
   "metadata": {
    "tags": []
   },
   "outputs": [],
   "source": [
    "# Load in Application Sample data\n",
    "\n",
    "applications_df = pd.read_csv('./application_samples.csv')"
   ]
  },
  {
   "cell_type": "code",
   "execution_count": 5,
   "id": "15eb96ec-a97e-47e5-97a1-b0a1dbe22696",
   "metadata": {
    "tags": []
   },
   "outputs": [
    {
     "data": {
      "text/html": [
       "<div>\n",
       "<style scoped>\n",
       "    .dataframe tbody tr th:only-of-type {\n",
       "        vertical-align: middle;\n",
       "    }\n",
       "\n",
       "    .dataframe tbody tr th {\n",
       "        vertical-align: top;\n",
       "    }\n",
       "\n",
       "    .dataframe thead th {\n",
       "        text-align: right;\n",
       "    }\n",
       "</style>\n",
       "<table border=\"1\" class=\"dataframe\">\n",
       "  <thead>\n",
       "    <tr style=\"text-align: right;\">\n",
       "      <th></th>\n",
       "      <th>UID</th>\n",
       "      <th>ApplicationDate</th>\n",
       "      <th>Amount</th>\n",
       "      <th>Term</th>\n",
       "      <th>EmploymentType</th>\n",
       "      <th>LoanPurpose</th>\n",
       "      <th>Success</th>\n",
       "    </tr>\n",
       "  </thead>\n",
       "  <tbody>\n",
       "    <tr>\n",
       "      <th>0</th>\n",
       "      <td>4921736</td>\n",
       "      <td>03/07/2020</td>\n",
       "      <td>2000</td>\n",
       "      <td>60</td>\n",
       "      <td>Employed - full time</td>\n",
       "      <td>Unexpected bills</td>\n",
       "      <td>0</td>\n",
       "    </tr>\n",
       "    <tr>\n",
       "      <th>1</th>\n",
       "      <td>1241981</td>\n",
       "      <td>04/02/2020</td>\n",
       "      <td>3000</td>\n",
       "      <td>60</td>\n",
       "      <td>Employed - full time</td>\n",
       "      <td>Starting new bussniess</td>\n",
       "      <td>0</td>\n",
       "    </tr>\n",
       "    <tr>\n",
       "      <th>2</th>\n",
       "      <td>5751748</td>\n",
       "      <td>02/08/2020</td>\n",
       "      <td>20000</td>\n",
       "      <td>60</td>\n",
       "      <td>Employed - full time</td>\n",
       "      <td>Business capital</td>\n",
       "      <td>0</td>\n",
       "    </tr>\n",
       "    <tr>\n",
       "      <th>3</th>\n",
       "      <td>7163425</td>\n",
       "      <td>23/09/2020</td>\n",
       "      <td>20000</td>\n",
       "      <td>60</td>\n",
       "      <td>Self employed</td>\n",
       "      <td>New business venture</td>\n",
       "      <td>0</td>\n",
       "    </tr>\n",
       "    <tr>\n",
       "      <th>4</th>\n",
       "      <td>227377</td>\n",
       "      <td>01/01/2020</td>\n",
       "      <td>5000</td>\n",
       "      <td>36</td>\n",
       "      <td>Employed - full time</td>\n",
       "      <td>car</td>\n",
       "      <td>0</td>\n",
       "    </tr>\n",
       "  </tbody>\n",
       "</table>\n",
       "</div>"
      ],
      "text/plain": [
       "       UID ApplicationDate  Amount  Term        EmploymentType  \\\n",
       "0  4921736      03/07/2020    2000    60  Employed - full time   \n",
       "1  1241981      04/02/2020    3000    60  Employed - full time   \n",
       "2  5751748      02/08/2020   20000    60  Employed - full time   \n",
       "3  7163425      23/09/2020   20000    60         Self employed   \n",
       "4   227377      01/01/2020    5000    36  Employed - full time   \n",
       "\n",
       "              LoanPurpose  Success  \n",
       "0        Unexpected bills        0  \n",
       "1  Starting new bussniess        0  \n",
       "2        Business capital        0  \n",
       "3    New business venture        0  \n",
       "4                     car        0  "
      ]
     },
     "execution_count": 5,
     "metadata": {},
     "output_type": "execute_result"
    }
   ],
   "source": [
    "applications_df.head()"
   ]
  },
  {
   "cell_type": "markdown",
   "id": "1a24112d-7f41-45ce-989c-ed0b29f64114",
   "metadata": {},
   "source": [
    "# Individual Features EDA"
   ]
  },
  {
   "cell_type": "markdown",
   "id": "41675edc-3439-468d-b904-832c890cc640",
   "metadata": {
    "tags": []
   },
   "source": [
    "## LoanPurpose"
   ]
  },
  {
   "cell_type": "code",
   "execution_count": 6,
   "id": "333ba028-3627-48fa-849a-e797bef94313",
   "metadata": {
    "tags": []
   },
   "outputs": [
    {
     "data": {
      "text/plain": [
       "(8847, 7)"
      ]
     },
     "execution_count": 6,
     "metadata": {},
     "output_type": "execute_result"
    }
   ],
   "source": [
    "applications_df.shape"
   ]
  },
  {
   "cell_type": "code",
   "execution_count": 7,
   "id": "cf9b1c7d-2186-46f2-96a9-a0273c20ef02",
   "metadata": {
    "tags": []
   },
   "outputs": [
    {
     "data": {
      "text/html": [
       "<div>\n",
       "<style scoped>\n",
       "    .dataframe tbody tr th:only-of-type {\n",
       "        vertical-align: middle;\n",
       "    }\n",
       "\n",
       "    .dataframe tbody tr th {\n",
       "        vertical-align: top;\n",
       "    }\n",
       "\n",
       "    .dataframe thead th {\n",
       "        text-align: right;\n",
       "    }\n",
       "</style>\n",
       "<table border=\"1\" class=\"dataframe\">\n",
       "  <thead>\n",
       "    <tr style=\"text-align: right;\">\n",
       "      <th></th>\n",
       "      <th>UID</th>\n",
       "      <th>ApplicationDate</th>\n",
       "      <th>Amount</th>\n",
       "      <th>Term</th>\n",
       "      <th>EmploymentType</th>\n",
       "      <th>LoanPurpose</th>\n",
       "      <th>Success</th>\n",
       "    </tr>\n",
       "  </thead>\n",
       "  <tbody>\n",
       "    <tr>\n",
       "      <th>8842</th>\n",
       "      <td>8681053</td>\n",
       "      <td>17/11/2020</td>\n",
       "      <td>5000</td>\n",
       "      <td>60</td>\n",
       "      <td>Employed - full time</td>\n",
       "      <td>Wedding</td>\n",
       "      <td>0</td>\n",
       "    </tr>\n",
       "    <tr>\n",
       "      <th>8843</th>\n",
       "      <td>8768469</td>\n",
       "      <td>20/11/2020</td>\n",
       "      <td>8000</td>\n",
       "      <td>24</td>\n",
       "      <td>Employed - full time</td>\n",
       "      <td>Wedding</td>\n",
       "      <td>0</td>\n",
       "    </tr>\n",
       "    <tr>\n",
       "      <th>8844</th>\n",
       "      <td>8794971</td>\n",
       "      <td>22/11/2020</td>\n",
       "      <td>1000</td>\n",
       "      <td>36</td>\n",
       "      <td>Employed - full time</td>\n",
       "      <td>Wedding deposit</td>\n",
       "      <td>0</td>\n",
       "    </tr>\n",
       "    <tr>\n",
       "      <th>8845</th>\n",
       "      <td>8875138</td>\n",
       "      <td>24/11/2020</td>\n",
       "      <td>10000</td>\n",
       "      <td>60</td>\n",
       "      <td>Self employed</td>\n",
       "      <td>Wedding</td>\n",
       "      <td>0</td>\n",
       "    </tr>\n",
       "    <tr>\n",
       "      <th>8846</th>\n",
       "      <td>9134889</td>\n",
       "      <td>05/12/2020</td>\n",
       "      <td>20000</td>\n",
       "      <td>60</td>\n",
       "      <td>Employed - full time</td>\n",
       "      <td>wedding</td>\n",
       "      <td>0</td>\n",
       "    </tr>\n",
       "  </tbody>\n",
       "</table>\n",
       "</div>"
      ],
      "text/plain": [
       "          UID ApplicationDate  Amount  Term        EmploymentType  \\\n",
       "8842  8681053      17/11/2020    5000    60  Employed - full time   \n",
       "8843  8768469      20/11/2020    8000    24  Employed - full time   \n",
       "8844  8794971      22/11/2020    1000    36  Employed - full time   \n",
       "8845  8875138      24/11/2020   10000    60         Self employed   \n",
       "8846  9134889      05/12/2020   20000    60  Employed - full time   \n",
       "\n",
       "          LoanPurpose  Success  \n",
       "8842          Wedding        0  \n",
       "8843          Wedding        0  \n",
       "8844  Wedding deposit        0  \n",
       "8845          Wedding        0  \n",
       "8846          wedding        0  "
      ]
     },
     "execution_count": 7,
     "metadata": {},
     "output_type": "execute_result"
    }
   ],
   "source": [
    "applications_df.tail()"
   ]
  },
  {
   "cell_type": "code",
   "execution_count": 8,
   "id": "9ccbe5a6-6e22-4469-831d-2fa3d9c338f2",
   "metadata": {
    "tags": []
   },
   "outputs": [
    {
     "data": {
      "text/plain": [
       "UID                 int64\n",
       "ApplicationDate    object\n",
       "Amount              int64\n",
       "Term                int64\n",
       "EmploymentType     object\n",
       "LoanPurpose        object\n",
       "Success             int64\n",
       "dtype: object"
      ]
     },
     "execution_count": 8,
     "metadata": {},
     "output_type": "execute_result"
    }
   ],
   "source": [
    "applications_df.dtypes"
   ]
  },
  {
   "cell_type": "code",
   "execution_count": 9,
   "id": "f8119166-363e-4aec-aa66-ecf1d9157b6a",
   "metadata": {
    "tags": []
   },
   "outputs": [
    {
     "data": {
      "text/plain": [
       "Car                   978\n",
       "Consolidation         581\n",
       "car                   373\n",
       "Debt consolidation    357\n",
       "Other                 310\n",
       "Home improvement      224\n",
       "Home improvements     221\n",
       "consolidation         137\n",
       "debt consolidation    133\n",
       "home improvements     113\n",
       "Debt Consolidation    103\n",
       "New car                90\n",
       "home improvement       86\n",
       "Furniture              78\n",
       "Home Improvments       67\n",
       "Name: LoanPurpose, dtype: int64"
      ]
     },
     "execution_count": 9,
     "metadata": {},
     "output_type": "execute_result"
    }
   ],
   "source": [
    "applications_df['LoanPurpose'].value_counts()[:15]"
   ]
  },
  {
   "cell_type": "code",
   "execution_count": 10,
   "id": "b9aec882-f6bb-4567-bdf6-a4455cd61deb",
   "metadata": {
    "tags": []
   },
   "outputs": [
    {
     "data": {
      "text/plain": [
       "{'number_of_nulls': 0,\n",
       " 'null_indices': [],\n",
       " 'null_values': Series([], Name: LoanPurpose, dtype: object)}"
      ]
     },
     "execution_count": 10,
     "metadata": {},
     "output_type": "execute_result"
    }
   ],
   "source": [
    "check_nulls(applications_df, 'LoanPurpose')"
   ]
  },
  {
   "cell_type": "markdown",
   "id": "e4c5621b-4d7c-4258-9a23-99859ee9781b",
   "metadata": {},
   "source": [
    "#### Manually group"
   ]
  },
  {
   "cell_type": "markdown",
   "id": "101672bf-c541-4bbc-a8fc-d6671734649a",
   "metadata": {},
   "source": [
    "Note: I have grouped certain items together which, with more time, I would definitely check whether splitting these up had an effect on model performance.\n",
    "\n",
    "E.g. I have grouped:\n",
    "- car repairs, loans and purchases all into one.\n",
    "- debt and debt consolidation\n",
    "- emergency and medical\n",
    "- Bills and vet bills"
   ]
  },
  {
   "cell_type": "code",
   "execution_count": 20,
   "id": "7a84daff-62a6-481d-a77a-165213e9dc2f",
   "metadata": {
    "tags": []
   },
   "outputs": [],
   "source": [
    "# Step 1: Standardise case\n",
    "applications_df['purpose'] = applications_df['LoanPurpose'].str.lower()\n",
    "\n",
    "# Step 2: Map common variations to a standard category\n",
    "purpose_mapping = {\n",
    "    'car': 'car',\n",
    "    'car loan': 'car',\n",
    "    'vehicle': 'car',\n",
    "    'new car': 'car',\n",
    "    'car purchase': 'car',\n",
    "    'car repairs' : 'car',\n",
    "    'car repair' : 'car',\n",
    "    'vehicle purchase' : 'car',\n",
    "    'van' : 'car',\n",
    "    \n",
    "    \n",
    "    \n",
    "    'consolidation' : 'debt consolidation',\n",
    "    'debt consolidation': 'debt consolidation', \n",
    "    'consolidate debt' : 'debt consolidation', \n",
    "    'debts' : 'debt consolidation', \n",
    "    'consolodation' : 'debt consolidation',\n",
    "    \n",
    "    'home': 'home improvement',\n",
    "    'home improvement': 'home improvement',\n",
    "    'home improvements': 'home improvement',\n",
    "    'home improvments': 'home improvement',\n",
    "    'furniture' : 'home improvement',\n",
    "    'household' : 'home improvement',\n",
    "    'house': 'home improvement',\n",
    "    'household items': 'home improvement',\n",
    "    'improvements' : 'home improvement',\n",
    "    \n",
    "    'other': 'other',\n",
    "    \n",
    "    'medical expenses': 'medical',\n",
    "    'emergency' : 'medical',\n",
    "    'family emergency' : 'medical',\n",
    "    \n",
    "    'bills' : 'bills',\n",
    "    'vet bills' : 'bills',\n",
    "    'vet bill' : 'bills',\n",
    "    'vets bill' : 'bills',\n",
    "    'car bills' : 'bills',\n",
    "    \n",
    "    'repairs' : 'repairs',\n",
    "    \n",
    "    'personal loan' : 'expenses',\n",
    "    'unexpected expense' : 'expenses',\n",
    "    \n",
    "    'motorbike' : 'bike',\n",
    "    'bike' : 'bike',\n",
    "    'motorcycle' : 'bike'\n",
    "}\n",
    "\n",
    "applications_df['purpose'] = applications_df['purpose'].replace(purpose_mapping).copy()\n",
    "\n",
    "manual_groups = ['car', 'debt consolidation', 'home improvement', 'other', 'medical', 'bills', 'repairs', 'expenses', 'bike']"
   ]
  },
  {
   "cell_type": "code",
   "execution_count": 21,
   "id": "982e25ed-f60d-4f02-8861-4a1cf84999b5",
   "metadata": {
    "tags": []
   },
   "outputs": [
    {
     "data": {
      "text/plain": [
       "0.4211597151576806"
      ]
     },
     "execution_count": 21,
     "metadata": {},
     "output_type": "execute_result"
    }
   ],
   "source": [
    "# check fraction of entries that have not been classified manually\n",
    "applications_df[~applications_df['purpose'].isin(manual_groups)]['purpose'].value_counts()[:].sum()/applications_df['purpose'].value_counts()[:].sum()"
   ]
  },
  {
   "cell_type": "markdown",
   "id": "e4a34812-1875-47f4-a121-b65b0fc6dabf",
   "metadata": {},
   "source": [
    "#### Try fuzzy matching to tidy this feature"
   ]
  },
  {
   "cell_type": "code",
   "execution_count": 22,
   "id": "fec7974c-1be5-4e79-aa05-6b02743162ba",
   "metadata": {
    "tags": []
   },
   "outputs": [],
   "source": [
    "from fuzzywuzzy import process\n"
   ]
  },
  {
   "cell_type": "code",
   "execution_count": 26,
   "id": "03d1207b-f703-454e-a5f1-ef8e69782409",
   "metadata": {
    "tags": []
   },
   "outputs": [],
   "source": [
    "# Define a list of known purposes to map entries to\n",
    "known_purposes = manual_groups\n",
    "\n",
    "# Function to map each entry to the closest known purpose\n",
    "def match_purpose(entry):\n",
    "    match, score = process.extractOne(entry, known_purposes)\n",
    "    if score >= 80:  # Choose a similarity threshold (e.g., 80%)\n",
    "        return match\n",
    "    else:\n",
    "        return entry  # Return original if no close match is found\n",
    "\n",
    "# Apply fuzzy matching to the purpose column\n",
    "applications_df['purpose'] = applications_df['purpose'].apply(match_purpose).copy()\n"
   ]
  },
  {
   "cell_type": "code",
   "execution_count": 27,
   "id": "f1803282-2580-4f8f-b6dc-7ed8021137f9",
   "metadata": {
    "tags": []
   },
   "outputs": [
    {
     "data": {
      "text/plain": [
       "0.2448287555103425"
      ]
     },
     "execution_count": 27,
     "metadata": {},
     "output_type": "execute_result"
    }
   ],
   "source": [
    "# check fraction of entries that have not been classified post fuzzywuzzy matching\n",
    "applications_df[~applications_df['purpose'].isin(manual_groups)]['purpose'].value_counts()[:].sum()/applications_df['fuzzy_purpose'].value_counts()[:].sum()"
   ]
  },
  {
   "cell_type": "code",
   "execution_count": 31,
   "id": "04b42690-47e3-4e43-9c0c-20c4e6f6e8a5",
   "metadata": {
    "tags": []
   },
   "outputs": [],
   "source": [
    "# Assign all entries not in \"manual group\" to \"Other\"\n",
    "applications_df.loc[~applications_df['purpose'].isin(manual_groups), 'purpose'] = 'non_grouped'"
   ]
  },
  {
   "cell_type": "code",
   "execution_count": 32,
   "id": "90a14f2b-d6c8-4a03-8794-8ba9745f6aaa",
   "metadata": {
    "tags": []
   },
   "outputs": [
    {
     "data": {
      "text/plain": [
       "car                   2417\n",
       "non_grouped           2166\n",
       "debt consolidation    1840\n",
       "home improvement      1292\n",
       "other                  459\n",
       "bills                  281\n",
       "medical                114\n",
       "expenses               103\n",
       "repairs                 92\n",
       "bike                    83\n",
       "Name: fuzzy_purpose, dtype: int64"
      ]
     },
     "execution_count": 32,
     "metadata": {},
     "output_type": "execute_result"
    }
   ],
   "source": [
    "applications_df['purpose'].value_counts()"
   ]
  },
  {
   "cell_type": "code",
   "execution_count": 33,
   "id": "d8cb8b7e-e09d-4641-bbab-004f6ce82697",
   "metadata": {
    "tags": []
   },
   "outputs": [
    {
     "data": {
      "text/plain": [
       "0.0"
      ]
     },
     "execution_count": 33,
     "metadata": {},
     "output_type": "execute_result"
    }
   ],
   "source": [
    "# check fraction of entries that have not been classified manually\n",
    "applications_df[~applications_df['purpose'].isin(manual_groups+['non_grouped'])]['purpose'].value_counts()[:].sum()/applications_df['purpose'].value_counts()[:].sum()"
   ]
  },
  {
   "cell_type": "markdown",
   "id": "26368cd6-0d57-4cfd-981e-840f5ea34f93",
   "metadata": {},
   "source": [
    "How to handle this feature:\n",
    "\n",
    "- Group all with car and nothing else\n",
    "- group with car and new\n",
    "- group all with car and repair\n",
    "- group all with debt consolidation\n",
    "- decide what to do with condolidation on its own\n",
    "- group all with variations of home improvement\n",
    "- wedding\n",
    "- bills\n",
    "- Emergency\n",
    "\n",
    "\n",
    "Ask ChatGPT for ides\n"
   ]
  },
  {
   "cell_type": "markdown",
   "id": "26a7339e-265c-47b3-8197-95a74245ed37",
   "metadata": {},
   "source": [
    "## EmploymentType"
   ]
  },
  {
   "cell_type": "code",
   "execution_count": 16,
   "id": "6dd49730-ffd6-4a76-9272-0185567c58af",
   "metadata": {
    "tags": []
   },
   "outputs": [
    {
     "data": {
      "text/plain": [
       "Employed - full time    7714\n",
       "Employed - part time     570\n",
       "Self employed            418\n",
       "Retired                  145\n",
       "Name: EmploymentType, dtype: int64"
      ]
     },
     "execution_count": 16,
     "metadata": {},
     "output_type": "execute_result"
    }
   ],
   "source": [
    "applications_df['EmploymentType'].value_counts()"
   ]
  },
  {
   "cell_type": "code",
   "execution_count": 62,
   "id": "e1cc1faa-2ad3-4454-987c-cc5089a73aec",
   "metadata": {
    "tags": []
   },
   "outputs": [
    {
     "data": {
      "text/plain": [
       "{'number_of_nulls': 0,\n",
       " 'null_indices': [],\n",
       " 'null_values': Series([], Name: EmploymentType, dtype: object)}"
      ]
     },
     "execution_count": 62,
     "metadata": {},
     "output_type": "execute_result"
    }
   ],
   "source": [
    "check_nulls(applications_df, 'EmploymentType')"
   ]
  },
  {
   "cell_type": "markdown",
   "id": "fa18888b-f81b-4063-9335-4f80c26f05f3",
   "metadata": {},
   "source": [
    "Conclusion:\n",
    "- One Hot Encode and use as is"
   ]
  },
  {
   "cell_type": "markdown",
   "id": "b693c7da-a690-41ba-bbac-1fc1afdcf70a",
   "metadata": {},
   "source": [
    "## Term"
   ]
  },
  {
   "cell_type": "code",
   "execution_count": 17,
   "id": "eef9dee0-73b1-479c-9151-90d2f1bcc49c",
   "metadata": {
    "tags": []
   },
   "outputs": [
    {
     "data": {
      "text/plain": [
       "0       60\n",
       "1       60\n",
       "2       60\n",
       "3       60\n",
       "4       36\n",
       "        ..\n",
       "8842    60\n",
       "8843    24\n",
       "8844    36\n",
       "8845    60\n",
       "8846    60\n",
       "Name: Term, Length: 8847, dtype: int64"
      ]
     },
     "execution_count": 17,
     "metadata": {},
     "output_type": "execute_result"
    }
   ],
   "source": [
    "applications_df['Term']"
   ]
  },
  {
   "cell_type": "code",
   "execution_count": 21,
   "id": "03cf25bf-ea29-490f-9364-53a9b0c11e66",
   "metadata": {
    "tags": []
   },
   "outputs": [
    {
     "data": {
      "text/plain": [
       "<AxesSubplot: ylabel='Frequency'>"
      ]
     },
     "execution_count": 21,
     "metadata": {},
     "output_type": "execute_result"
    },
    {
     "data": {
      "image/png": "[encoded data removed]",
      "text/plain": [
       "<Figure size 640x480 with 1 Axes>"
      ]
     },
     "metadata": {},
     "output_type": "display_data"
    }
   ],
   "source": [
    "applications_df['Term'].plot.hist()"
   ]
  },
  {
   "cell_type": "code",
   "execution_count": 55,
   "id": "055f0cee-6f68-41fc-969c-edbbc07fff04",
   "metadata": {
    "tags": []
   },
   "outputs": [
    {
     "data": {
      "text/plain": [
       "{'number_of_outliers': 0, 'outliers': Series([], Name: Term, dtype: int64)}"
      ]
     },
     "execution_count": 55,
     "metadata": {},
     "output_type": "execute_result"
    }
   ],
   "source": [
    "detect_outliers_iqr(applications_df, 'Term')"
   ]
  },
  {
   "cell_type": "code",
   "execution_count": 61,
   "id": "158117a2-0f99-47eb-8b2d-b00534cb7baf",
   "metadata": {
    "tags": []
   },
   "outputs": [
    {
     "data": {
      "text/plain": [
       "{'number_of_nulls': 0,\n",
       " 'null_indices': [],\n",
       " 'null_values': Series([], Name: Term, dtype: int64)}"
      ]
     },
     "execution_count": 61,
     "metadata": {},
     "output_type": "execute_result"
    }
   ],
   "source": [
    "check_nulls(applications_df, 'Term')"
   ]
  },
  {
   "cell_type": "markdown",
   "id": "253d9927-c91b-4234-886d-2b4621524f2e",
   "metadata": {},
   "source": [
    "Conclusion:\n",
    "- Normalise"
   ]
  },
  {
   "cell_type": "markdown",
   "id": "bd943818-5a0f-456b-a2ea-1f97ee8e67e0",
   "metadata": {},
   "source": [
    "## Amount"
   ]
  },
  {
   "cell_type": "code",
   "execution_count": 22,
   "id": "befba024-9f18-45ca-b265-9ca5a17ea454",
   "metadata": {
    "tags": []
   },
   "outputs": [
    {
     "data": {
      "text/plain": [
       "<AxesSubplot: ylabel='Frequency'>"
      ]
     },
     "execution_count": 22,
     "metadata": {},
     "output_type": "execute_result"
    },
    {
     "data": {
      "image/png": "[encoded data removed]",
      "text/plain": [
       "<Figure size 640x480 with 1 Axes>"
      ]
     },
     "metadata": {},
     "output_type": "display_data"
    }
   ],
   "source": [
    "applications_df['Amount'].plot.hist()"
   ]
  },
  {
   "cell_type": "code",
   "execution_count": 56,
   "id": "571c7c33-a1d8-4dd7-b4df-ff0246750696",
   "metadata": {
    "tags": []
   },
   "outputs": [
    {
     "data": {
      "text/plain": [
       "{'number_of_outliers': 0, 'outliers': Series([], Name: Amount, dtype: int64)}"
      ]
     },
     "execution_count": 56,
     "metadata": {},
     "output_type": "execute_result"
    }
   ],
   "source": [
    "detect_outliers_iqr(applications_df, 'Amount')"
   ]
  },
  {
   "cell_type": "code",
   "execution_count": 58,
   "id": "c0c6ee80-9415-4fc4-9e4c-b91a8910a1f7",
   "metadata": {
    "tags": []
   },
   "outputs": [
    {
     "data": {
      "text/plain": [
       "{'number_of_nulls': 0,\n",
       " 'null_indices': [],\n",
       " 'null_values': Series([], Name: Amount, dtype: int64)}"
      ]
     },
     "execution_count": 58,
     "metadata": {},
     "output_type": "execute_result"
    }
   ],
   "source": [
    "check_nulls(applications_df, 'Amount')"
   ]
  },
  {
   "cell_type": "markdown",
   "id": "122e4e83-6a05-4695-ac11-4d49661680b1",
   "metadata": {},
   "source": [
    "Conclusion:\n",
    "- Normalise"
   ]
  },
  {
   "cell_type": "markdown",
   "id": "57c68f0b-c354-4bb3-b03f-ea58b2460df9",
   "metadata": {},
   "source": [
    "## ApplicationDate"
   ]
  },
  {
   "cell_type": "markdown",
   "id": "9a7cd6a9-b472-4544-8671-3478603ccf6b",
   "metadata": {},
   "source": [
    "I have a hypothesis that there is a correlation between when applications were made and their amount and/or success rate"
   ]
  },
  {
   "cell_type": "code",
   "execution_count": 40,
   "id": "72e228b7-135b-485b-879a-2c7a57384989",
   "metadata": {},
   "outputs": [],
   "source": [
    "# Convert ApplicationDate to datetime format\n",
    "applications_df['ApplicationDate'] = pd.to_datetime(applications_df['ApplicationDate'], format='%d/%m/%Y')\n",
    "\n",
    "# Extract the month\n",
    "applications_df['month'] = applications_df['ApplicationDate'].dt.month"
   ]
  },
  {
   "cell_type": "code",
   "execution_count": 41,
   "id": "bfecb30b-2b22-4c22-b1a0-555b6fb95bc5",
   "metadata": {
    "tags": []
   },
   "outputs": [
    {
     "data": {
      "text/plain": [
       "0        3\n",
       "1        4\n",
       "2        2\n",
       "3        9\n",
       "4        1\n",
       "        ..\n",
       "8842    11\n",
       "8843    11\n",
       "8844    11\n",
       "8845    11\n",
       "8846     5\n",
       "Name: month, Length: 8847, dtype: int64"
      ]
     },
     "execution_count": 41,
     "metadata": {},
     "output_type": "execute_result"
    }
   ],
   "source": [
    "applications_df['month']"
   ]
  },
  {
   "cell_type": "code",
   "execution_count": 46,
   "id": "a511ab4a-c82a-422d-860c-f8e70890b966",
   "metadata": {
    "tags": []
   },
   "outputs": [
    {
     "data": {
      "image/png": "[encoded data removed]",
      "text/plain": [
       "<Figure size 800x600 with 1 Axes>"
      ]
     },
     "metadata": {},
     "output_type": "display_data"
    }
   ],
   "source": [
    "# Check relationship between month and success\n",
    "\n",
    "# Calculate the fraction of success for each month\n",
    "success_fraction = applications_df.groupby('month')['Success'].mean()\n",
    "\n",
    "# Plot the result\n",
    "plt.figure(figsize=(8, 6))\n",
    "success_fraction.plot(kind='bar')\n",
    "\n",
    "plt.title('Fraction of Success by Month')\n",
    "plt.xlabel('Month')\n",
    "plt.ylabel('Fraction of Success')\n",
    "plt.xticks(rotation=0)  # Keep month labels horizontal\n",
    "plt.show()"
   ]
  },
  {
   "cell_type": "code",
   "execution_count": 47,
   "id": "3906644e-b572-48cb-857b-b74e1111953a",
   "metadata": {
    "tags": []
   },
   "outputs": [
    {
     "data": {
      "image/png": "[encoded data removed]",
      "text/plain": [
       "<Figure size 800x600 with 2 Axes>"
      ]
     },
     "metadata": {},
     "output_type": "display_data"
    }
   ],
   "source": [
    "import pandas as pd\n",
    "import matplotlib.pyplot as plt\n",
    "\n",
    "# Sample dataframe\n",
    "df = pd.DataFrame({\n",
    "    'month': [1, 1, 2, 2, 3, 3, 3],\n",
    "    'success': [1, 0, 1, 0, 1, 1, 0]\n",
    "})\n",
    "\n",
    "# Calculate the fraction of success for each month\n",
    "success_fraction = applications_df.groupby('month')['Success'].mean()\n",
    "\n",
    "# Calculate the number of entries per month\n",
    "entries_per_month = applications_df['month'].value_counts().sort_index()\n",
    "\n",
    "# Create a plot with a secondary y-axis\n",
    "fig, ax1 = plt.subplots(figsize=(8, 6))\n",
    "\n",
    "# Plot fraction of success (primary y-axis)\n",
    "ax1.bar(success_fraction.index, success_fraction, color='blue', alpha=0.6, label='Fraction of Success')\n",
    "ax1.set_xlabel('Month')\n",
    "ax1.set_ylabel('Fraction of Success', color='blue')\n",
    "ax1.tick_params(axis='y', labelcolor='blue')\n",
    "\n",
    "# Create a secondary y-axis for the count of entries\n",
    "ax2 = ax1.twinx()\n",
    "ax2.plot(entries_per_month.index, entries_per_month, color='green', marker='o', label='Number of Entries', linewidth=2)\n",
    "ax2.set_ylabel('Number of Entries', color='green')\n",
    "ax2.tick_params(axis='y', labelcolor='green')\n",
    "\n",
    "# Title and show plot\n",
    "plt.title('Fraction of Success and Number of Entries by Month')\n",
    "plt.show()\n"
   ]
  },
  {
   "cell_type": "code",
   "execution_count": 52,
   "id": "18dcde5e-e844-4f35-88f5-47ec54681aaf",
   "metadata": {
    "tags": []
   },
   "outputs": [
    {
     "data": {
      "image/png": "[encoded data removed]",
      "text/plain": [
       "<Figure size 800x600 with 2 Axes>"
      ]
     },
     "metadata": {},
     "output_type": "display_data"
    }
   ],
   "source": [
    "import pandas as pd\n",
    "import matplotlib.pyplot as plt\n",
    "\n",
    "# Sample dataframe\n",
    "df = pd.DataFrame({\n",
    "    'month': [1, 1, 2, 2, 3, 3, 3],\n",
    "    'success': [1, 0, 1, 0, 1, 1, 0]\n",
    "})\n",
    "\n",
    "# Calculate the fraction of success for each month\n",
    "success_fraction = applications_df.groupby('month')['Success'].mean()\n",
    "\n",
    "# Calculate the average amount per month\n",
    "average_amount = applications_df.groupby('month')['Amount'].mean()\n",
    "\n",
    "# Create a plot with a secondary y-axis\n",
    "fig, ax1 = plt.subplots(figsize=(8, 6))\n",
    "\n",
    "# Plot fraction of success (primary y-axis)\n",
    "ax1.bar(success_fraction.index, success_fraction, color='blue', alpha=0.6, label='Fraction of Success')\n",
    "ax1.set_xlabel('Month')\n",
    "ax1.set_ylabel('Fraction of Success', color='blue')\n",
    "ax1.tick_params(axis='y', labelcolor='blue')\n",
    "\n",
    "# Create a secondary y-axis for the count of entries\n",
    "ax2 = ax1.twinx()\n",
    "ax2.plot(average_amount.index, average_amount, color='green', marker='o', label='Average Amount', linewidth=2)\n",
    "ax2.set_ylabel('Average Amount', color='green')\n",
    "ax2.tick_params(axis='y', labelcolor='green')\n",
    "\n",
    "# Title and show plot\n",
    "plt.title('Fraction of Success and average amount by Month')\n",
    "plt.show()\n"
   ]
  },
  {
   "cell_type": "markdown",
   "id": "b0d1395d-c93b-43a9-8539-13d080bc935f",
   "metadata": {},
   "source": [
    "Conclusion:\n",
    "- Do not use\n",
    "\n",
    "Observations:\n",
    "- Funny that volume goes down over the course of the year and fraction of successful applications goes up\n",
    "- Don't know enough about this data to use it.\n",
    "\n",
    "Reasons for not using:\n",
    "- do not know if this is an exhaustive list of all applications\n",
    "- do not know if these applications were approved or rejected by an expert who never makes a mistake or by someone who starts the year feeling mean or by an AI"
   ]
  },
  {
   "cell_type": "markdown",
   "id": "5f0fde1d-151a-4faa-a1c7-e607194e67a5",
   "metadata": {},
   "source": [
    "## Success"
   ]
  },
  {
   "cell_type": "code",
   "execution_count": 23,
   "id": "7036019b-534e-47b4-a6ca-baa6c6d9ff8b",
   "metadata": {
    "tags": []
   },
   "outputs": [
    {
     "data": {
      "text/plain": [
       "<AxesSubplot: ylabel='Frequency'>"
      ]
     },
     "execution_count": 23,
     "metadata": {},
     "output_type": "execute_result"
    },
    {
     "data": {
      "image/png": "[encoded data removed]",
      "text/plain": [
       "<Figure size 640x480 with 1 Axes>"
      ]
     },
     "metadata": {},
     "output_type": "display_data"
    }
   ],
   "source": [
    "applications_df['Success'].plot.hist()"
   ]
  },
  {
   "cell_type": "code",
   "execution_count": 24,
   "id": "3b52b064-94d8-4922-84bf-8dd0945d8661",
   "metadata": {
    "tags": []
   },
   "outputs": [
    {
     "data": {
      "text/plain": [
       "0    7925\n",
       "1     922\n",
       "Name: Success, dtype: int64"
      ]
     },
     "execution_count": 24,
     "metadata": {},
     "output_type": "execute_result"
    }
   ],
   "source": [
    "applications_df['Success'].value_counts()"
   ]
  },
  {
   "cell_type": "code",
   "execution_count": 30,
   "id": "98a114bf-129c-42b3-aa81-fe7b96243a17",
   "metadata": {
    "tags": []
   },
   "outputs": [
    {
     "name": "stdout",
     "output_type": "stream",
     "text": [
      "Positive target ratio = 12 %\n"
     ]
    }
   ],
   "source": [
    "# Positive target fraction\n",
    "pos_target_fraction = applications_df['Success'].value_counts()[1]/applications_df['Success'].value_counts()[0] \n",
    "\n",
    "print(f\"Positive target ratio = {round(100*pos_target_fraction)} %\")"
   ]
  },
  {
   "cell_type": "markdown",
   "id": "979ceaf6-e860-4708-b1e9-3fb6caab0127",
   "metadata": {},
   "source": [
    "Conclusion:\n",
    "\n",
    "- Imbalanced Dataset\n",
    "- Sufficient positive class to not need to oversample\n",
    "- Bear in mind imbalance when evaluating model performance\n",
    "\n",
    "Deciding whether to lend money: would rather a few extra false negatives than false positives. False positives mean we don't get our money back."
   ]
  },
  {
   "cell_type": "markdown",
   "id": "1bdf32d6-517e-4c2f-ad0e-ec918a9306f3",
   "metadata": {},
   "source": [
    "# Check for correlations amongst features"
   ]
  },
  {
   "cell_type": "code",
   "execution_count": 75,
   "id": "075f57a9-ba75-4670-afc5-95565ce76c2d",
   "metadata": {
    "tags": []
   },
   "outputs": [],
   "source": [
    "import pandas as pd\n",
    "import matplotlib.pyplot as plt\n",
    "\n",
    "def feature_correlation(df: pd.DataFrame, threshold: float = 0.8):\n",
    "    \"\"\"\n",
    "    Computes and visualizes the correlation matrix for features, and identifies highly correlated pairs.\n",
    "    \n",
    "    Parameters:\n",
    "    df (pd.DataFrame): The input DataFrame.\n",
    "    threshold (float): The threshold for considering features as highly correlated.\n",
    "    \n",
    "    Returns:\n",
    "    pd.DataFrame: A DataFrame showing highly correlated feature pairs with correlation > threshold.\n",
    "    \"\"\"\n",
    "    # Calculate correlation matrix for numerical columns\n",
    "    corr_matrix = df.corr()\n",
    "    \n",
    "    # Visualize the correlation matrix as a heatmap\n",
    "    plt.figure(figsize=(10, 8))\n",
    "    sns.heatmap(corr_matrix, annot=True, cmap='coolwarm', vmin=-1, vmax=1)\n",
    "    plt.title(\"Correlation Matrix of Features\")\n",
    "    plt.show()\n",
    "\n",
    "    # Find highly correlated feature pairs\n",
    "    correlated_pairs = (corr_matrix\n",
    "                        .stack()  # Converts to long format\n",
    "                        .reset_index()\n",
    "                        .rename(columns={0: 'correlation'})\n",
    "                        .query(f'abs(correlation) > {threshold} and level_0 != level_1')\n",
    "                        .sort_values(by='correlation', ascending=False))\n",
    "\n",
    "    return correlated_pairs\n",
    "\n",
    "# Example of usage\n",
    "# correlated_features = feature_correlation(df, threshold=0.8)\n",
    "# print(\"Highly correlated feature pairs:\")\n",
    "# print(correlated_features)\n"
   ]
  },
  {
   "cell_type": "code",
   "execution_count": 76,
   "id": "d5355d43-0fd3-4950-bf50-cbc1c66e780f",
   "metadata": {
    "tags": []
   },
   "outputs": [
    {
     "data": {
      "image/png": "[encoded data removed]",
      "text/plain": [
       "<Figure size 1000x800 with 2 Axes>"
      ]
     },
     "metadata": {},
     "output_type": "display_data"
    },
    {
     "data": {
      "text/html": [
       "<div>\n",
       "<style scoped>\n",
       "    .dataframe tbody tr th:only-of-type {\n",
       "        vertical-align: middle;\n",
       "    }\n",
       "\n",
       "    .dataframe tbody tr th {\n",
       "        vertical-align: top;\n",
       "    }\n",
       "\n",
       "    .dataframe thead th {\n",
       "        text-align: right;\n",
       "    }\n",
       "</style>\n",
       "<table border=\"1\" class=\"dataframe\">\n",
       "  <thead>\n",
       "    <tr style=\"text-align: right;\">\n",
       "      <th></th>\n",
       "      <th>level_0</th>\n",
       "      <th>level_1</th>\n",
       "      <th>correlation</th>\n",
       "    </tr>\n",
       "  </thead>\n",
       "  <tbody>\n",
       "  </tbody>\n",
       "</table>\n",
       "</div>"
      ],
      "text/plain": [
       "Empty DataFrame\n",
       "Columns: [level_0, level_1, correlation]\n",
       "Index: []"
      ]
     },
     "execution_count": 76,
     "metadata": {},
     "output_type": "execute_result"
    }
   ],
   "source": [
    "feature_correlation(applications_df[applications_df.columns.drop('Success')])"
   ]
  },
  {
   "cell_type": "code",
   "execution_count": 69,
   "id": "e3b0184a-0805-4950-b891-ec6d3d4265ee",
   "metadata": {
    "tags": []
   },
   "outputs": [
    {
     "data": {
      "text/html": [
       "<div>\n",
       "<style scoped>\n",
       "    .dataframe tbody tr th:only-of-type {\n",
       "        vertical-align: middle;\n",
       "    }\n",
       "\n",
       "    .dataframe tbody tr th {\n",
       "        vertical-align: top;\n",
       "    }\n",
       "\n",
       "    .dataframe thead th {\n",
       "        text-align: right;\n",
       "    }\n",
       "</style>\n",
       "<table border=\"1\" class=\"dataframe\">\n",
       "  <thead>\n",
       "    <tr style=\"text-align: right;\">\n",
       "      <th></th>\n",
       "      <th>UID</th>\n",
       "      <th>ApplicationDate</th>\n",
       "      <th>Amount</th>\n",
       "      <th>Term</th>\n",
       "      <th>EmploymentType</th>\n",
       "      <th>LoanPurpose</th>\n",
       "      <th>month</th>\n",
       "    </tr>\n",
       "  </thead>\n",
       "  <tbody>\n",
       "    <tr>\n",
       "      <th>0</th>\n",
       "      <td>4921736</td>\n",
       "      <td>2020-03-07</td>\n",
       "      <td>2000</td>\n",
       "      <td>60</td>\n",
       "      <td>Employed - full time</td>\n",
       "      <td>Unexpected bills</td>\n",
       "      <td>3</td>\n",
       "    </tr>\n",
       "    <tr>\n",
       "      <th>1</th>\n",
       "      <td>1241981</td>\n",
       "      <td>2020-04-02</td>\n",
       "      <td>3000</td>\n",
       "      <td>60</td>\n",
       "      <td>Employed - full time</td>\n",
       "      <td>Starting new bussniess</td>\n",
       "      <td>4</td>\n",
       "    </tr>\n",
       "    <tr>\n",
       "      <th>2</th>\n",
       "      <td>5751748</td>\n",
       "      <td>2020-02-08</td>\n",
       "      <td>20000</td>\n",
       "      <td>60</td>\n",
       "      <td>Employed - full time</td>\n",
       "      <td>Business capital</td>\n",
       "      <td>2</td>\n",
       "    </tr>\n",
       "    <tr>\n",
       "      <th>3</th>\n",
       "      <td>7163425</td>\n",
       "      <td>2020-09-23</td>\n",
       "      <td>20000</td>\n",
       "      <td>60</td>\n",
       "      <td>Self employed</td>\n",
       "      <td>New business venture</td>\n",
       "      <td>9</td>\n",
       "    </tr>\n",
       "    <tr>\n",
       "      <th>4</th>\n",
       "      <td>227377</td>\n",
       "      <td>2020-01-01</td>\n",
       "      <td>5000</td>\n",
       "      <td>36</td>\n",
       "      <td>Employed - full time</td>\n",
       "      <td>car</td>\n",
       "      <td>1</td>\n",
       "    </tr>\n",
       "    <tr>\n",
       "      <th>...</th>\n",
       "      <td>...</td>\n",
       "      <td>...</td>\n",
       "      <td>...</td>\n",
       "      <td>...</td>\n",
       "      <td>...</td>\n",
       "      <td>...</td>\n",
       "      <td>...</td>\n",
       "    </tr>\n",
       "    <tr>\n",
       "      <th>8842</th>\n",
       "      <td>8681053</td>\n",
       "      <td>2020-11-17</td>\n",
       "      <td>5000</td>\n",
       "      <td>60</td>\n",
       "      <td>Employed - full time</td>\n",
       "      <td>Wedding</td>\n",
       "      <td>11</td>\n",
       "    </tr>\n",
       "    <tr>\n",
       "      <th>8843</th>\n",
       "      <td>8768469</td>\n",
       "      <td>2020-11-20</td>\n",
       "      <td>8000</td>\n",
       "      <td>24</td>\n",
       "      <td>Employed - full time</td>\n",
       "      <td>Wedding</td>\n",
       "      <td>11</td>\n",
       "    </tr>\n",
       "    <tr>\n",
       "      <th>8844</th>\n",
       "      <td>8794971</td>\n",
       "      <td>2020-11-22</td>\n",
       "      <td>1000</td>\n",
       "      <td>36</td>\n",
       "      <td>Employed - full time</td>\n",
       "      <td>Wedding deposit</td>\n",
       "      <td>11</td>\n",
       "    </tr>\n",
       "    <tr>\n",
       "      <th>8845</th>\n",
       "      <td>8875138</td>\n",
       "      <td>2020-11-24</td>\n",
       "      <td>10000</td>\n",
       "      <td>60</td>\n",
       "      <td>Self employed</td>\n",
       "      <td>Wedding</td>\n",
       "      <td>11</td>\n",
       "    </tr>\n",
       "    <tr>\n",
       "      <th>8846</th>\n",
       "      <td>9134889</td>\n",
       "      <td>2020-05-12</td>\n",
       "      <td>20000</td>\n",
       "      <td>60</td>\n",
       "      <td>Employed - full time</td>\n",
       "      <td>wedding</td>\n",
       "      <td>5</td>\n",
       "    </tr>\n",
       "  </tbody>\n",
       "</table>\n",
       "<p>8847 rows × 7 columns</p>\n",
       "</div>"
      ],
      "text/plain": [
       "          UID ApplicationDate  Amount  Term        EmploymentType  \\\n",
       "0     4921736      2020-03-07    2000    60  Employed - full time   \n",
       "1     1241981      2020-04-02    3000    60  Employed - full time   \n",
       "2     5751748      2020-02-08   20000    60  Employed - full time   \n",
       "3     7163425      2020-09-23   20000    60         Self employed   \n",
       "4      227377      2020-01-01    5000    36  Employed - full time   \n",
       "...       ...             ...     ...   ...                   ...   \n",
       "8842  8681053      2020-11-17    5000    60  Employed - full time   \n",
       "8843  8768469      2020-11-20    8000    24  Employed - full time   \n",
       "8844  8794971      2020-11-22    1000    36  Employed - full time   \n",
       "8845  8875138      2020-11-24   10000    60         Self employed   \n",
       "8846  9134889      2020-05-12   20000    60  Employed - full time   \n",
       "\n",
       "                 LoanPurpose  month  \n",
       "0           Unexpected bills      3  \n",
       "1     Starting new bussniess      4  \n",
       "2           Business capital      2  \n",
       "3       New business venture      9  \n",
       "4                        car      1  \n",
       "...                      ...    ...  \n",
       "8842                 Wedding     11  \n",
       "8843                 Wedding     11  \n",
       "8844         Wedding deposit     11  \n",
       "8845                 Wedding     11  \n",
       "8846                 wedding      5  \n",
       "\n",
       "[8847 rows x 7 columns]"
      ]
     },
     "execution_count": 69,
     "metadata": {},
     "output_type": "execute_result"
    }
   ],
   "source": [
    "applications_df[applications_df.columns.drop('Success')]"
   ]
  },
  {
   "cell_type": "code",
   "execution_count": 70,
   "id": "d43e1890-3cdc-4ed1-b77b-73f25f7f5cbd",
   "metadata": {
    "tags": []
   },
   "outputs": [
    {
     "data": {
      "text/html": [
       "<div>\n",
       "<style scoped>\n",
       "    .dataframe tbody tr th:only-of-type {\n",
       "        vertical-align: middle;\n",
       "    }\n",
       "\n",
       "    .dataframe tbody tr th {\n",
       "        vertical-align: top;\n",
       "    }\n",
       "\n",
       "    .dataframe thead th {\n",
       "        text-align: right;\n",
       "    }\n",
       "</style>\n",
       "<table border=\"1\" class=\"dataframe\">\n",
       "  <thead>\n",
       "    <tr style=\"text-align: right;\">\n",
       "      <th></th>\n",
       "      <th>UID</th>\n",
       "      <th>ApplicationDate</th>\n",
       "      <th>Amount</th>\n",
       "      <th>Term</th>\n",
       "      <th>EmploymentType</th>\n",
       "      <th>LoanPurpose</th>\n",
       "      <th>Success</th>\n",
       "      <th>month</th>\n",
       "    </tr>\n",
       "  </thead>\n",
       "  <tbody>\n",
       "    <tr>\n",
       "      <th>0</th>\n",
       "      <td>4921736</td>\n",
       "      <td>2020-03-07</td>\n",
       "      <td>2000</td>\n",
       "      <td>60</td>\n",
       "      <td>Employed - full time</td>\n",
       "      <td>Unexpected bills</td>\n",
       "      <td>0</td>\n",
       "      <td>3</td>\n",
       "    </tr>\n",
       "    <tr>\n",
       "      <th>1</th>\n",
       "      <td>1241981</td>\n",
       "      <td>2020-04-02</td>\n",
       "      <td>3000</td>\n",
       "      <td>60</td>\n",
       "      <td>Employed - full time</td>\n",
       "      <td>Starting new bussniess</td>\n",
       "      <td>0</td>\n",
       "      <td>4</td>\n",
       "    </tr>\n",
       "    <tr>\n",
       "      <th>2</th>\n",
       "      <td>5751748</td>\n",
       "      <td>2020-02-08</td>\n",
       "      <td>20000</td>\n",
       "      <td>60</td>\n",
       "      <td>Employed - full time</td>\n",
       "      <td>Business capital</td>\n",
       "      <td>0</td>\n",
       "      <td>2</td>\n",
       "    </tr>\n",
       "    <tr>\n",
       "      <th>3</th>\n",
       "      <td>7163425</td>\n",
       "      <td>2020-09-23</td>\n",
       "      <td>20000</td>\n",
       "      <td>60</td>\n",
       "      <td>Self employed</td>\n",
       "      <td>New business venture</td>\n",
       "      <td>0</td>\n",
       "      <td>9</td>\n",
       "    </tr>\n",
       "    <tr>\n",
       "      <th>4</th>\n",
       "      <td>227377</td>\n",
       "      <td>2020-01-01</td>\n",
       "      <td>5000</td>\n",
       "      <td>36</td>\n",
       "      <td>Employed - full time</td>\n",
       "      <td>car</td>\n",
       "      <td>0</td>\n",
       "      <td>1</td>\n",
       "    </tr>\n",
       "  </tbody>\n",
       "</table>\n",
       "</div>"
      ],
      "text/plain": [
       "       UID ApplicationDate  Amount  Term        EmploymentType  \\\n",
       "0  4921736      2020-03-07    2000    60  Employed - full time   \n",
       "1  1241981      2020-04-02    3000    60  Employed - full time   \n",
       "2  5751748      2020-02-08   20000    60  Employed - full time   \n",
       "3  7163425      2020-09-23   20000    60         Self employed   \n",
       "4   227377      2020-01-01    5000    36  Employed - full time   \n",
       "\n",
       "              LoanPurpose  Success  month  \n",
       "0        Unexpected bills        0      3  \n",
       "1  Starting new bussniess        0      4  \n",
       "2        Business capital        0      2  \n",
       "3    New business venture        0      9  \n",
       "4                     car        0      1  "
      ]
     },
     "execution_count": 70,
     "metadata": {},
     "output_type": "execute_result"
    }
   ],
   "source": [
    "applications_df.head()"
   ]
  },
  {
   "cell_type": "code",
   "execution_count": null,
   "id": "0ccec130-4201-43d9-abe4-60f727cd5f28",
   "metadata": {},
   "outputs": [],
   "source": []
  },
  {
   "cell_type": "markdown",
   "id": "ddcbcb42-ad27-4b08-8b25-a4e25a3397bc",
   "metadata": {},
   "source": [
    "## Correlation testing - the old way"
   ]
  },
  {
   "cell_type": "code",
   "execution_count": 88,
   "id": "492129cb-7016-4bae-a499-ffc037f1938c",
   "metadata": {
    "tags": []
   },
   "outputs": [],
   "source": [
    "data_df = applications_df.copy()\n",
    "\n",
    "data_df['test_col'] = data_df['Amount'] + 2*data_df['Term']"
   ]
  },
  {
   "cell_type": "code",
   "execution_count": 85,
   "id": "1eb953ab-748d-4f3b-ac19-497e60d9bc5c",
   "metadata": {
    "tags": []
   },
   "outputs": [],
   "source": [
    "import networkx\n",
    "import numpy as np\n",
    "\n",
    "from tqdm.notebook import tqdm"
   ]
  },
  {
   "cell_type": "markdown",
   "id": "989fbf04-f1cb-4ad4-8bb1-21adaba25415",
   "metadata": {},
   "source": [
    "#### Separate into numerical, categorical and binary features"
   ]
  },
  {
   "cell_type": "code",
   "execution_count": 89,
   "id": "f70b83a3-242a-4dea-a499-1100583a5379",
   "metadata": {
    "tags": []
   },
   "outputs": [],
   "source": [
    "# Distinguish between: Numerical features, categorical features, binary-like features\n",
    "numerical_cols    = data_df.select_dtypes(include=[np.number]).columns.to_list()\n",
    "categorical_cols  = data_df.select_dtypes(exclude=[np.number]).columns.to_list()\n",
    "binary_variables  = [col for col in numerical_cols if len(data_df[col].unique())<=3]\n",
    "\n",
    "numerical_cols = list ( set(numerical_cols)-set(binary_variables))\n",
    "\n"
   ]
  },
  {
   "cell_type": "markdown",
   "id": "932051c9-a8fc-423e-ac88-100ef8622df6",
   "metadata": {},
   "source": [
    "### Check that categorical and binary features have some correlation with the target"
   ]
  },
  {
   "cell_type": "code",
   "execution_count": 112,
   "id": "debcfa05-5f30-46d1-8e03-909c01402610",
   "metadata": {
    "tags": []
   },
   "outputs": [],
   "source": [
    "# Test categorical and binary variables against target\n",
    "\n",
    "chi_test_independent_features_to_drop = []\n",
    "num_cols = len(categorical_cols)\n",
    "alpha    = 0.05\n",
    "\n",
    "for i, var in enumerate(categorical_cols + binary_variables):\n",
    "        observed = pd.crosstab(data_df[var], data_df['Success'])\n",
    "        chi2, p_val, dof, expected = scs.chi2_contingency(observed, correction=False)\n",
    "        if p_val > alpha: \n",
    "            chi_test_independent_features_to_drop.append(var)"
   ]
  },
  {
   "cell_type": "code",
   "execution_count": 113,
   "id": "9e37977a-51db-4332-9b8f-575330e666ba",
   "metadata": {
    "tags": []
   },
   "outputs": [
    {
     "data": {
      "text/plain": [
       "['LoanPurpose']"
      ]
     },
     "execution_count": 113,
     "metadata": {},
     "output_type": "execute_result"
    }
   ],
   "source": [
    "# Features to discard\n",
    "chi_test_independent_features_to_drop\n"
   ]
  },
  {
   "cell_type": "markdown",
   "id": "2300ec85-7464-4bcd-b32d-4516e6e10849",
   "metadata": {},
   "source": [
    "### 1. Check independence of numerical features, amongst themselves\n"
   ]
  },
  {
   "cell_type": "code",
   "execution_count": 90,
   "id": "8703bbd9-8cae-4e5d-9cbb-3b18ae53c405",
   "metadata": {
    "tags": []
   },
   "outputs": [],
   "source": [
    "LABEL = []\n",
    "random_seed = 0\n",
    "corr_thresh=0.80"
   ]
  },
  {
   "cell_type": "code",
   "execution_count": 91,
   "id": "6bb612aa-2f1b-46ea-8bbd-9bc34417217e",
   "metadata": {
    "tags": []
   },
   "outputs": [
    {
     "data": {
      "text/plain": [
       "['Amount', 'test_col', 'month', 'UID', 'Term']"
      ]
     },
     "execution_count": 91,
     "metadata": {},
     "output_type": "execute_result"
    }
   ],
   "source": [
    "numerical_cols"
   ]
  },
  {
   "cell_type": "code",
   "execution_count": 94,
   "id": "65ca77d1-b858-4644-971b-819470acca3f",
   "metadata": {
    "tags": []
   },
   "outputs": [],
   "source": [
    "import networkx as nx\n",
    "from networkx.utils import not_implemented_for\n",
    "from networkx.utils import py_random_state\n",
    "\n",
    "__all__ = [\"maximal_independent_set\"]\n",
    "\n",
    "@py_random_state(2)\n",
    "@not_implemented_for(\"directed\")\n",
    "def reproducible_maximal_independent_set(G, nodes=None, seed=None):\n",
    "    if not nodes:\n",
    "        nodes = {seed.choice(list(G))}\n",
    "    else:\n",
    "        nodes = set(nodes)\n",
    "    if not nodes.issubset(G):\n",
    "        raise nx.NetworkXUnfeasible( print('%s is not a subset of the nodes of G' % nodes) )\n",
    "    neighbors = set.union(*[set(G.adj[v]) for v in nodes])\n",
    "    if set.intersection(neighbors, nodes):\n",
    "        raise nx.NetworkXUnfeasible( print('%s is not an independent set of G' % nodes) )\n",
    "    indep_nodes = sorted(list(nodes))\n",
    "    available_nodes = set(G.nodes()).difference(neighbors.union(nodes))\n",
    "    while available_nodes:\n",
    "        node = seed.choice(sorted(list(available_nodes)))\n",
    "        indep_nodes.append(node)\n",
    "        available_nodes.difference_update(list(G.adj[node]) + [node])\n",
    "    return indep_nodes"
   ]
  },
  {
   "cell_type": "code",
   "execution_count": 95,
   "id": "89761a6e-c4e4-4183-be1e-5efa4ca57409",
   "metadata": {
    "tags": []
   },
   "outputs": [
    {
     "data": {
      "application/vnd.jupyter.widget-view+json": {
       "model_id": "82489148efc842e59ee761a09f5e1bcb",
       "version_major": 2,
       "version_minor": 0
      },
      "text/plain": [
       "  0%|          | 0/4 [00:00<?, ?it/s]"
      ]
     },
     "metadata": {},
     "output_type": "display_data"
    },
    {
     "name": "stdout",
     "output_type": "stream",
     "text": [
      "Pair corr 1.00: Amount --- test_col\n"
     ]
    }
   ],
   "source": [
    "#corrmat = data_df.drop(LABEL, axis=1).corr()\n",
    "corrmat = data_df[numerical_cols].corr()\n",
    "\n",
    "\n",
    "G = networkx.Graph()\n",
    "for i in tqdm(range(0, corrmat.shape[0]-1)):\n",
    "    for j in range(i+1, corrmat.shape[1]):\n",
    "        if ( abs(corrmat.iloc[i,j]) > corr_thresh):\n",
    "            print('Pair corr %.2f: %s --- %s' % (corrmat.iloc[i,j], corrmat.index[i], corrmat.columns[j]) )\n",
    "            G.add_edges_from([ (corrmat.index[i], corrmat.columns[j]) ])\n",
    " \n",
    "\n",
    "if len(G.nodes)>0:\n",
    "    must_have = [x for x in ['avg_mem'] if x in list(G.nodes)]\n",
    "    mis = reproducible_maximal_independent_set(G, nodes=must_have, seed=random_seed)\n",
    "    corr_features_to_drop = list( set(G.nodes) - set(mis) )\n",
    "else: \n",
    "    corr_features_to_drop = []\n",
    "    print( 'No nodes in the graph' )"
   ]
  },
  {
   "cell_type": "markdown",
   "id": "93fdc6a4-66df-4f4a-84d3-e77071895623",
   "metadata": {},
   "source": [
    "### Test independence of categorical features amongst themselves"
   ]
  },
  {
   "cell_type": "code",
   "execution_count": 97,
   "id": "322cbe70-646a-495c-8378-c4c3e5305611",
   "metadata": {
    "tags": []
   },
   "outputs": [],
   "source": [
    "df = data_df[categorical_cols].apply( lambda x: x.astype(\"category\") if x.dtype == \"O\" else x)"
   ]
  },
  {
   "cell_type": "code",
   "execution_count": 106,
   "id": "b048e43c-f1c9-4600-a0f3-28f7ee36c907",
   "metadata": {
    "tags": []
   },
   "outputs": [],
   "source": [
    "cramers_v = am.CramersV(df)\n",
    "\n",
    "# It will return a pairwise matrix filled with Cramer's V, where \n",
    "# columns and index are the categorical variables of the passed pandas.DataFrame\n",
    "cfit = cramers_v.fit().round(2)"
   ]
  },
  {
   "cell_type": "code",
   "execution_count": 107,
   "id": "f693ddc8-0fca-494b-bf1d-159a3b75f070",
   "metadata": {
    "tags": []
   },
   "outputs": [
    {
     "name": "stdout",
     "output_type": "stream",
     "text": [
      " List of cat. vars with Cramers above 0.75\n",
      " Obtained 0 couples of highly correlated variables\n"
     ]
    }
   ],
   "source": [
    "corrmat = cfit\n",
    "\n",
    "corr_thresh = 0.75\n",
    "print(' List of cat. vars with Cramers above %.2f' % corr_thresh )\n",
    "counter = 0\n",
    "for i in range(0, corrmat.shape[0]-1):\n",
    "    for j in range(i+1, corrmat.shape[1]):\n",
    "        if (corrmat.iloc[i,j] > corr_thresh):\n",
    "            counter+=1\n",
    "            print( 'Cat. vars show Cramers %.2f: %s AND %s' % (corrmat.iloc[i,j], corrmat.index[i], corrmat.columns[j]) )\n",
    "print(' Obtained %d couples of highly correlated variables' % counter)\n",
    "\n"
   ]
  },
  {
   "cell_type": "code",
   "execution_count": 108,
   "id": "a7b05d62-8801-4d5b-a111-1241874b3a75",
   "metadata": {
    "tags": []
   },
   "outputs": [],
   "source": [
    "categorical_features_to_drop = []"
   ]
  },
  {
   "cell_type": "code",
   "execution_count": null,
   "id": "585a6afb-d275-4eff-b93c-cf0d7b56bd38",
   "metadata": {},
   "outputs": [],
   "source": []
  }
 ],
 "metadata": {
  "environment": {
   "kernel": "python3",
   "name": "tf2-gpu.2-6.m120",
   "type": "gcloud",
   "uri": "us-docker.pkg.dev/deeplearning-platform-release/gcr.io/tf2-gpu.2-6:m120"
  },
  "kernelspec": {
   "display_name": "Python 3 (Local)",
   "language": "python",
   "name": "python3"
  },
  "language_info": {
   "codemirror_mode": {
    "name": "ipython",
    "version": 3
   },
   "file_extension": ".py",
   "mimetype": "text/x-python",
   "name": "python",
   "nbconvert_exporter": "python",
   "pygments_lexer": "ipython3",
   "version": "3.9.19"
  }
 },
 "nbformat": 4,
 "nbformat_minor": 5
}
